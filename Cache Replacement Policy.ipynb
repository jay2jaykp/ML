{
 "cells": [
  {
   "cell_type": "code",
   "execution_count": 47,
   "metadata": {},
   "outputs": [],
   "source": [
    "import numpy as np\n",
    "#from tqdm import tqdm\n",
    "from tqdm import tqdm_notebook as tqdm\n",
    "import pandas as pd\n",
    "import numpy as np\n",
    "from collections import defaultdict\n",
    "from functools import partial\n",
    "import matplotlib.pyplot as plt\n",
    "from matplotlib.pyplot import figure \n",
    "import time\n",
    "import argparse"
   ]
  },
  {
   "cell_type": "code",
   "execution_count": 4,
   "metadata": {},
   "outputs": [],
   "source": [
    "#upload data\n",
    "data = pd.read_csv('cheetah.cs.fiu.edu-110108-113008.1.blkparse', header=None)\n",
    "\n",
    "#split columns\n",
    "df = pd.DataFrame(data[0].str.split(' ',9).tolist())\n",
    "#extract one column --> blocktrace sequence\n",
    "blocktrace = df[3].tolist()\n",
    "#convert element to int from str\n",
    "blocktrace = np.array([int(x) for x in blocktrace])"
   ]
  },
  {
   "cell_type": "markdown",
   "metadata": {},
   "source": [
    "## FIFO"
   ]
  },
  {
   "cell_type": "code",
   "execution_count": 5,
   "metadata": {},
   "outputs": [],
   "source": [
    "def FIFO(blocktrace, frame):\n",
    "    cache = np.zeros((frame), dtype=int)\n",
    "    hit, miss = 0, 0\n",
    "\n",
    "    #print(\"block\", \"\\t\\t hit\", \"\\t\\t miss\", \"\\t\\t cache\", \"\\t\\tpointer\")\n",
    "\n",
    "    pointer = 0\n",
    "    for block in tqdm(blocktrace, desc=str(frame), leave=False):\n",
    "        if block in cache:\n",
    "            hit += 1\n",
    "\n",
    "        elif pointer < frame:\n",
    "            #cache[np.where(cache==0)[0][0]] = block\n",
    "            cache[pointer] = block\n",
    "            miss += 1\n",
    "            pointer += 1\n",
    "\n",
    "        else:\n",
    "            cache[pointer % frame] = block\n",
    "            pointer += 1\n",
    "            miss += 1\n",
    "\n",
    "        #print(block, \"\\t\\t\", hit, \"\\t\\t\", miss, \"\\t\\t\", cache, \"\\t\\t\", pointer)\n",
    "\n",
    "    hitrate = hit / (hit + miss)\n",
    "    #print(hitrate)\n",
    "    return hitrate"
   ]
  },
  {
   "cell_type": "markdown",
   "metadata": {},
   "source": [
    "## LFU"
   ]
  },
  {
   "cell_type": "code",
   "execution_count": 6,
   "metadata": {},
   "outputs": [],
   "source": [
    "def LFU(blocktrace, frame):\n",
    "    cache = set()\n",
    "    FU = defaultdict(int)\n",
    "    FU_cache = defaultdict(int)\n",
    "\n",
    "    hit, miss = 0, 0\n",
    "    \n",
    "    #print(\"block\", \"\\t\\t hit\", \"\\t\\t miss\", \"\\t\\t cache\")\n",
    "    for block in tqdm(blocktrace, desc=\"LFU\", leave=False):\n",
    "        FU[block] += 1\n",
    "\n",
    "        if block in cache:\n",
    "            hit += 1\n",
    "            FU_cache[block] = FU[block]\n",
    "        \n",
    "        elif len(cache) < frame:\n",
    "            FU_cache[block] = FU[block]\n",
    "            cache.add(block)\n",
    "            miss += 1\n",
    "\n",
    "        else:\n",
    "            e, f = min(FU_cache.items(), key=lambda a: a[1])\n",
    "            FU_cache.pop(e)\n",
    "            cache.remove(e)\n",
    "            cache.add(block)\n",
    "            FU_cache[block] = FU[block]\n",
    "            miss += 1\n",
    "        #print(block, \"\\t\\t\", hit, \"\\t\\t\", miss, \"\\t\\t\", cache)\n",
    "\n",
    "    hitrate = hit / (hit + miss)\n",
    "    #print(\"\\n\\nhitrate: \", hitrate)\n",
    "    return hitrate"
   ]
  },
  {
   "cell_type": "markdown",
   "metadata": {},
   "source": [
    "## LRU"
   ]
  },
  {
   "cell_type": "code",
   "execution_count": 8,
   "metadata": {},
   "outputs": [],
   "source": [
    "def LRU(blocktrace, frame):\n",
    "    cache = set()\n",
    "    recent_block = np.array([], dtype=int)\n",
    "    \n",
    "    hit, miss = 0, 0\n",
    "    \n",
    "    #print(\"block\", \"\\t\\t hit\", \"\\t\\t miss\", \"\\t\\t cache\")\n",
    "    for block in tqdm(blocktrace, desc=\"LRU\", leave=False):\n",
    "    \n",
    "        if block in cache:\n",
    "            recent_block = np.delete(recent_block, np.argwhere(recent_block==block))\n",
    "            recent_block = np.append(recent_block, block)\n",
    "            hit += 1\n",
    "            \n",
    "        \n",
    "        elif len(cache) < frame:\n",
    "            recent_block = np.append(recent_block, block)\n",
    "            cache.add(block)\n",
    "            miss += 1\n",
    "\n",
    "        else:\n",
    "            cache.remove(recent_block[0])\n",
    "            recent_block = recent_block[1:]\n",
    "            recent_block = np.append(recent_block, block)\n",
    "            cache.add(block)\n",
    "            miss += 1\n",
    "        #print(block, \"\\t\\t\", hit, \"\\t\\t\", miss, \"\\t\\t\", cache)\n",
    "\n",
    "    hitrate = hit / (hit + miss)\n",
    "    #print(\"\\n\\nhitrate: \", hitrate)\n",
    "    return hitrate"
   ]
  },
  {
   "cell_type": "markdown",
   "metadata": {},
   "source": [
    "## OPTIMAL"
   ]
  },
  {
   "cell_type": "code",
   "execution_count": 9,
   "metadata": {},
   "outputs": [],
   "source": [
    "'''\n",
    "get the furthest accessed block. Scans OPT dictionary and selects the maximum positioned element\n",
    "'''\n",
    "\n",
    "def getFurthestAccessBlock(C, OPT):\n",
    "    maxAccessPosition = -1\n",
    "    maxAccessBlock = -1\n",
    "    for cached_block in C:\n",
    "        if len(OPT[cached_block]) is 0:\n",
    "            #print ( \"Not Acccessing block anymore \" + str(cached_block))\n",
    "            return cached_block            \n",
    "    for cached_block in C:  \n",
    "        if OPT[cached_block][0] > maxAccessPosition:\n",
    "            maxAccessPosition = OPT[cached_block][0]\n",
    "            maxAccessBlock = cached_block\n",
    "    #print ( \"chose to evict \" + str(maxAccessBlock) + \" since its position of access is \" + str(maxAccessPosition))\n",
    "    return maxAccessBlock"
   ]
  },
  {
   "cell_type": "code",
   "execution_count": 21,
   "metadata": {},
   "outputs": [],
   "source": [
    "def belady_opt(blocktrace, frame):\n",
    "    OPT = defaultdict(partial(np.ndarray,0))\n",
    "\n",
    "    for i, block in enumerate(tqdm(blocktrace, desc=\"OPT: building index\")):\n",
    "        OPT[block] = np.append(OPT[block], i)    \n",
    "\n",
    "    #print (\"created OPT dictionary\")    \n",
    "\n",
    "    hit, miss = 0, 0\n",
    "\n",
    "    C = set()\n",
    "\n",
    "    seq_number = 0\n",
    "    for block in tqdm(blocktrace, desc=\"OPT\", leave=False):\n",
    "\n",
    "        if block in C:\n",
    "            #OPT[block] = OPT[block][1:]\n",
    "            OPT[block] = np.delete(OPT[block],0)\n",
    "            hit+=1\n",
    "            #print('hit' + str(block))\n",
    "            #print(OPT)\n",
    "        else:\n",
    "            #print('miss' + str(block))\n",
    "            miss+=1\n",
    "            if len(C) == frame:\n",
    "                fblock = getFurthestAccessBlock(C, OPT)\n",
    "                assert(fblock != -1)\n",
    "                C.remove(fblock)\n",
    "            C.add(block)\n",
    "            #OPT[block] = OPT[block][1:]\n",
    "            #print(OPT)\n",
    "            OPT[block] = np.delete(OPT[block],[0])\n",
    "\n",
    "    #print (\"hit count\" + str(hit_count))\n",
    "    #print (\"miss count\" + str(miss_count))\n",
    "    hitrate = hit / (hit + miss)\n",
    "    #print(hitrate)\n",
    "    return hitrate"
   ]
  },
  {
   "cell_type": "code",
   "execution_count": 11,
   "metadata": {},
   "outputs": [],
   "source": [
    "frame_range = [500, 1000, 5000]"
   ]
  },
  {
   "cell_type": "code",
   "execution_count": 12,
   "metadata": {},
   "outputs": [],
   "source": [
    "#performance = {}"
   ]
  },
  {
   "cell_type": "code",
   "execution_count": 13,
   "metadata": {},
   "outputs": [
    {
     "data": {
      "application/vnd.jupyter.widget-view+json": {
       "model_id": "",
       "version_major": 2,
       "version_minor": 0
      },
      "text/plain": [
       "HBox(children=(IntProgress(value=0, description='LRU', max=1322890), HTML(value='')))"
      ]
     },
     "metadata": {},
     "output_type": "display_data"
    },
    {
     "name": "stdout",
     "output_type": "stream",
     "text": [
      "\r"
     ]
    },
    {
     "data": {
      "application/vnd.jupyter.widget-view+json": {
       "model_id": "",
       "version_major": 2,
       "version_minor": 0
      },
      "text/plain": [
       "HBox(children=(IntProgress(value=0, description='LRU', max=1322890), HTML(value='')))"
      ]
     },
     "metadata": {},
     "output_type": "display_data"
    },
    {
     "name": "stdout",
     "output_type": "stream",
     "text": [
      "\r"
     ]
    },
    {
     "data": {
      "application/vnd.jupyter.widget-view+json": {
       "model_id": "",
       "version_major": 2,
       "version_minor": 0
      },
      "text/plain": [
       "HBox(children=(IntProgress(value=0, description='LRU', max=1322890), HTML(value='')))"
      ]
     },
     "metadata": {},
     "output_type": "display_data"
    },
    {
     "name": "stdout",
     "output_type": "stream",
     "text": [
      "\r"
     ]
    }
   ],
   "source": [
    "result = []\n",
    "for frame in frame_range:\n",
    "    t = time.time()\n",
    "    ans = LRU(blocktrace, frame)\n",
    "    result.append((ans, time.time() - t))\n",
    "performance['LRU'] = result"
   ]
  },
  {
   "cell_type": "code",
   "execution_count": 18,
   "metadata": {
    "scrolled": true
   },
   "outputs": [
    {
     "data": {
      "application/vnd.jupyter.widget-view+json": {
       "model_id": "",
       "version_major": 2,
       "version_minor": 0
      },
      "text/plain": [
       "HBox(children=(IntProgress(value=0, description='LFU', max=1322890), HTML(value='')))"
      ]
     },
     "metadata": {},
     "output_type": "display_data"
    },
    {
     "name": "stdout",
     "output_type": "stream",
     "text": [
      "\r"
     ]
    },
    {
     "data": {
      "application/vnd.jupyter.widget-view+json": {
       "model_id": "",
       "version_major": 2,
       "version_minor": 0
      },
      "text/plain": [
       "HBox(children=(IntProgress(value=0, description='LFU', max=1322890), HTML(value='')))"
      ]
     },
     "metadata": {},
     "output_type": "display_data"
    },
    {
     "name": "stdout",
     "output_type": "stream",
     "text": [
      "\r"
     ]
    },
    {
     "data": {
      "application/vnd.jupyter.widget-view+json": {
       "model_id": "",
       "version_major": 2,
       "version_minor": 0
      },
      "text/plain": [
       "HBox(children=(IntProgress(value=0, description='LFU', max=1322890), HTML(value='')))"
      ]
     },
     "metadata": {},
     "output_type": "display_data"
    },
    {
     "name": "stdout",
     "output_type": "stream",
     "text": [
      "\r"
     ]
    }
   ],
   "source": [
    "result = []\n",
    "for frame in frame_range:\n",
    "    t = time.time()\n",
    "    ans = LFU(blocktrace, frame)\n",
    "    result.append((ans, time.time() - t))\n",
    "performance['LFU'] = result"
   ]
  },
  {
   "cell_type": "code",
   "execution_count": 16,
   "metadata": {},
   "outputs": [
    {
     "data": {
      "application/vnd.jupyter.widget-view+json": {
       "model_id": "",
       "version_major": 2,
       "version_minor": 0
      },
      "text/plain": [
       "HBox(children=(IntProgress(value=0, description='500', max=1322890), HTML(value='')))"
      ]
     },
     "metadata": {},
     "output_type": "display_data"
    },
    {
     "name": "stdout",
     "output_type": "stream",
     "text": [
      "\r"
     ]
    },
    {
     "data": {
      "application/vnd.jupyter.widget-view+json": {
       "model_id": "",
       "version_major": 2,
       "version_minor": 0
      },
      "text/plain": [
       "HBox(children=(IntProgress(value=0, description='1000', max=1322890), HTML(value='')))"
      ]
     },
     "metadata": {},
     "output_type": "display_data"
    },
    {
     "name": "stdout",
     "output_type": "stream",
     "text": [
      "\r"
     ]
    },
    {
     "data": {
      "application/vnd.jupyter.widget-view+json": {
       "model_id": "",
       "version_major": 2,
       "version_minor": 0
      },
      "text/plain": [
       "HBox(children=(IntProgress(value=0, description='5000', max=1322890), HTML(value='')))"
      ]
     },
     "metadata": {},
     "output_type": "display_data"
    },
    {
     "name": "stdout",
     "output_type": "stream",
     "text": [
      "\r"
     ]
    }
   ],
   "source": [
    "result = []\n",
    "for frame in frame_range:\n",
    "    t = time.time()\n",
    "    ans = FIFO(blocktrace, frame)\n",
    "    result.append((ans, time.time() - t))\n",
    "performance['FIFO'] = result"
   ]
  },
  {
   "cell_type": "code",
   "execution_count": 22,
   "metadata": {},
   "outputs": [
    {
     "data": {
      "application/vnd.jupyter.widget-view+json": {
       "model_id": "39e5fe973e004ec2aa657c77c29e6c0d",
       "version_major": 2,
       "version_minor": 0
      },
      "text/plain": [
       "HBox(children=(IntProgress(value=0, description='OPT: building index', max=1322890), HTML(value='')))"
      ]
     },
     "metadata": {},
     "output_type": "display_data"
    },
    {
     "name": "stdout",
     "output_type": "stream",
     "text": [
      "\n"
     ]
    },
    {
     "data": {
      "application/vnd.jupyter.widget-view+json": {
       "model_id": "",
       "version_major": 2,
       "version_minor": 0
      },
      "text/plain": [
       "HBox(children=(IntProgress(value=0, description='OPT', max=1322890), HTML(value='')))"
      ]
     },
     "metadata": {},
     "output_type": "display_data"
    },
    {
     "name": "stdout",
     "output_type": "stream",
     "text": [
      "\r"
     ]
    },
    {
     "data": {
      "application/vnd.jupyter.widget-view+json": {
       "model_id": "8864601405fe49cc80be6fe972cc868b",
       "version_major": 2,
       "version_minor": 0
      },
      "text/plain": [
       "HBox(children=(IntProgress(value=0, description='OPT: building index', max=1322890), HTML(value='')))"
      ]
     },
     "metadata": {},
     "output_type": "display_data"
    },
    {
     "name": "stdout",
     "output_type": "stream",
     "text": [
      "\n"
     ]
    },
    {
     "data": {
      "application/vnd.jupyter.widget-view+json": {
       "model_id": "",
       "version_major": 2,
       "version_minor": 0
      },
      "text/plain": [
       "HBox(children=(IntProgress(value=0, description='OPT', max=1322890), HTML(value='')))"
      ]
     },
     "metadata": {},
     "output_type": "display_data"
    },
    {
     "name": "stdout",
     "output_type": "stream",
     "text": [
      "\r"
     ]
    },
    {
     "data": {
      "application/vnd.jupyter.widget-view+json": {
       "model_id": "36e1b471c4f846f28fbdc8f85a42ef44",
       "version_major": 2,
       "version_minor": 0
      },
      "text/plain": [
       "HBox(children=(IntProgress(value=0, description='OPT: building index', max=1322890), HTML(value='')))"
      ]
     },
     "metadata": {},
     "output_type": "display_data"
    },
    {
     "name": "stdout",
     "output_type": "stream",
     "text": [
      "\n"
     ]
    },
    {
     "data": {
      "application/vnd.jupyter.widget-view+json": {
       "model_id": "",
       "version_major": 2,
       "version_minor": 0
      },
      "text/plain": [
       "HBox(children=(IntProgress(value=0, description='OPT', max=1322890), HTML(value='')))"
      ]
     },
     "metadata": {},
     "output_type": "display_data"
    },
    {
     "name": "stdout",
     "output_type": "stream",
     "text": [
      "\r"
     ]
    }
   ],
   "source": [
    "result = []\n",
    "for frame in frame_range:\n",
    "    t = time.time()\n",
    "    ans = belady_opt(blocktrace, frame)\n",
    "    result.append((ans, time.time() - t))\n",
    "performance['OPT'] = result"
   ]
  },
  {
   "cell_type": "code",
   "execution_count": 7,
   "metadata": {},
   "outputs": [
    {
     "data": {
      "application/vnd.jupyter.widget-view+json": {
       "model_id": "",
       "version_major": 2,
       "version_minor": 0
      },
      "text/plain": [
       "HBox(children=(IntProgress(value=0, description='LFU', max=11), HTML(value='')))"
      ]
     },
     "metadata": {},
     "output_type": "display_data"
    },
    {
     "name": "stdout",
     "output_type": "stream",
     "text": [
      "\r"
     ]
    },
    {
     "data": {
      "text/plain": [
       "0.5454545454545454"
      ]
     },
     "execution_count": 7,
     "metadata": {},
     "output_type": "execute_result"
    }
   ],
   "source": [
    "LFU([0,1,2,0,1,3,0,3,1,2,1], 3)"
   ]
  },
  {
   "cell_type": "code",
   "execution_count": 23,
   "metadata": {},
   "outputs": [
    {
     "data": {
      "text/plain": [
       "{'LRU': [(0.053016501749956535, 9.695297718048096),\n",
       "  (0.053607631775884616, 9.80590295791626),\n",
       "  (0.05840999629598833, 12.123212099075317)],\n",
       " 'FIFO': [(0.05296585505975553, 6.027400493621826),\n",
       "  (0.05352145681046799, 6.894514083862305),\n",
       "  (0.05828829305535608, 11.513629674911499)],\n",
       " 'LFU': [(0.05382609287242326, 81.15716361999512),\n",
       "  (0.05411561051939315, 175.75272965431213),\n",
       "  (0.06510896597600707, 715.3645238876343)],\n",
       " 'OPT': [(0.06331214235499551, 195.38704252243042),\n",
       "  (0.0713407766329778, 340.75411343574524),\n",
       "  (0.1217758090241819, 1504.9343848228455)]}"
      ]
     },
     "execution_count": 23,
     "metadata": {},
     "output_type": "execute_result"
    }
   ],
   "source": [
    "performance"
   ]
  },
  {
   "cell_type": "code",
   "execution_count": 62,
   "metadata": {},
   "outputs": [
    {
     "data": {
      "image/png": "[encoded data removed]",
      "text/plain": [
       "<Figure size 648x360 with 1 Axes>"
      ]
     },
     "metadata": {
      "needs_background": "light"
     },
     "output_type": "display_data"
    }
   ],
   "source": [
    "x_index = np.arange(len(performance))\n",
    "\n",
    "frame_500 = [j[0][0] for i,j in performance.items()]\n",
    "frame_1000 = [j[1][0] for i,j in performance.items()]\n",
    "frame_5000 = [j[2][0] for i,j in performance.items()]\n",
    "\n",
    "fig, ax = plt.subplots()\n",
    "width = 0.2\n",
    "\n",
    "bar_500 = ax.bar(x_index, frame_500, width, color='#fd6868', label='500 cache-size')\n",
    "bar_1000 = ax.bar(x_index + width, frame_1000, width, color='#40cfff', label='1000 cache-size')\n",
    "bar_5000 = ax.bar(x_index + + width + width, frame_5000, width, color='#ffad40', label='5000 cache-size')\n",
    "\n",
    "\n",
    "\n",
    "ax.set_xlabel('Cache Replacement Algorithm')\n",
    "ax.set_ylabel('Hitrate')\n",
    "#ax.set_title('Project')\n",
    "ax.set_xticks(x_index + width)\n",
    "ax.set_xticklabels(('LRU', 'FIFO', 'LFU', 'OPT'))\n",
    "ax.legend()\n",
    "\n",
    "fig.set_size_inches(9, 5)\n",
    "#fig.savefig('test2png.png', dpi=100)\n",
    "fig.tight_layout()\n",
    "plt.show()"
   ]
  },
  {
   "cell_type": "code",
   "execution_count": 86,
   "metadata": {},
   "outputs": [
    {
     "data": {
      "image/png": "[encoded data removed]",
      "text/plain": [
       "<Figure size 648x360 with 1 Axes>"
      ]
     },
     "metadata": {
      "needs_background": "light"
     },
     "output_type": "display_data"
    }
   ],
   "source": [
    "x_index = np.arange(3)\n",
    "\n",
    "LRU = [i[0]*100 for i in performance['LRU']]\n",
    "FIFO = [i[0]*100 for i in performance['FIFO']]\n",
    "LFU = [i[0]*100 for i in performance['LFU']]\n",
    "OPT = [i[0]*100 for i in performance['OPT']]\n",
    "\n",
    "fig, ax = plt.subplots()\n",
    "width = 0.1\n",
    "\n",
    "bar_LRU = ax.bar(x_index, LRU, width, color='#fd6868', label='LRU')\n",
    "bar_FIFO = ax.bar(x_index + width, FIFO, width, color='#40cfff', label='FIFO')\n",
    "bar_LFU = ax.bar(x_index + + width + width, LFU, width, color='#ffad40', label='LFU')\n",
    "bar_OPT = ax.bar(x_index + + width + width + width, OPT, width, color='#4effd7', label='OPT')\n",
    "\n",
    "# for i, v in enumerate(LRU):\n",
    "#     bar_LRU.text(v + 3, i + .25, str(v), color='blue', fontweight='bold')\n",
    "\n",
    "ax.set_xlabel('Cache Size')\n",
    "ax.set_ylabel('% Hit')\n",
    "#ax.set_title('Project')\n",
    "ax.set_xticks(x_index + (3*width) / 2)\n",
    "ax.set_xticklabels(('500', '1000', '5000'))\n",
    "ax.legend()\n",
    "plt.rcParams.update({'font.size': 12})\n",
    "\n",
    "fig.set_size_inches(9, 5)\n",
    "fig.savefig('test2png.png', dpi=200)\n",
    "fig.tight_layout()\n",
    "plt.show()"
   ]
  },
  {
   "cell_type": "code",
   "execution_count": 37,
   "metadata": {},
   "outputs": [
    {
     "data": {
      "text/plain": [
       "[0.053607631775884616,\n",
       " 0.05352145681046799,\n",
       " 0.05411561051939315,\n",
       " 0.0713407766329778]"
      ]
     },
     "execution_count": 37,
     "metadata": {},
     "output_type": "execute_result"
    }
   ],
   "source": [
    "frame_1000"
   ]
  },
  {
   "cell_type": "code",
   "execution_count": 63,
   "metadata": {},
   "outputs": [],
   "source": [
    "LRU = [i[0] for i in performance['LRU']]\n",
    "FIFO = [i[0] for i in performance['FIFO']]\n",
    "LFU = [i[0] for i in performance['LFU']]\n",
    "OPT = [i[0] for i in performance['OPT']]\n"
   ]
  },
  {
   "cell_type": "code",
   "execution_count": 64,
   "metadata": {},
   "outputs": [
    {
     "data": {
      "text/plain": [
       "[0.053016501749956535, 0.053607631775884616, 0.05840999629598833]"
      ]
     },
     "execution_count": 64,
     "metadata": {},
     "output_type": "execute_result"
    }
   ],
   "source": [
    "LRU"
   ]
  },
  {
   "cell_type": "code",
   "execution_count": null,
   "metadata": {},
   "outputs": [],
   "source": []
  }
 ],
 "metadata": {
  "kernelspec": {
   "display_name": "Python 3",
   "language": "python",
   "name": "python3"
  },
  "language_info": {
   "codemirror_mode": {
    "name": "ipython",
    "version": 3
   },
   "file_extension": ".py",
   "mimetype": "text/x-python",
   "name": "python",
   "nbconvert_exporter": "python",
   "pygments_lexer": "ipython3",
   "version": "3.7.0"
  }
 },
 "nbformat": 4,
 "nbformat_minor": 2
}
