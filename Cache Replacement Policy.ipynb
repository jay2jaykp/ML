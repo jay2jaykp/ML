{
 "cells": [
  {
   "cell_type": "code",
   "execution_count": 2,
   "metadata": {},
   "outputs": [],
   "source": [
    "import numpy as np\n",
    "from tqdm import tqdm\n",
    "import pandas as pd"
   ]
  },
  {
   "cell_type": "code",
   "execution_count": 3,
   "metadata": {},
   "outputs": [],
   "source": [
    "#upload data\n",
    "data = pd.read_csv('cheetah.cs.fiu.edu-110108-113008.1.blkparse', header=None)\n",
    "#remove heading\n",
    "data = data[3:]\n",
    "#split columns\n",
    "df = pd.DataFrame(data[0].str.split(' ',9).tolist())\n",
    "#extract one column --> blocktrace sequence\n",
    "blocktrace = df[3].tolist()\n",
    "#convert element to int from str\n",
    "blocktrace = np.array([int(x) for x in blocktrace])"
   ]
  },
  {
   "cell_type": "code",
   "execution_count": 14,
   "metadata": {},
   "outputs": [
    {
     "data": {
      "text/plain": [
       "1322897"
      ]
     },
     "execution_count": 14,
     "metadata": {},
     "output_type": "execute_result"
    }
   ],
   "source": [
    "len(blocktrace)"
   ]
  },
  {
   "cell_type": "code",
   "execution_count": 15,
   "metadata": {},
   "outputs": [
    {
     "data": {
      "text/plain": [
       "671732"
      ]
     },
     "execution_count": 15,
     "metadata": {},
     "output_type": "execute_result"
    }
   ],
   "source": [
    "len(set(blocktrace))"
   ]
  },
  {
   "cell_type": "code",
   "execution_count": 16,
   "metadata": {},
   "outputs": [
    {
     "data": {
      "text/plain": [
       "0.5077734698922138"
      ]
     },
     "execution_count": 16,
     "metadata": {},
     "output_type": "execute_result"
    }
   ],
   "source": [
    "len(set(blocktrace)) / len(blocktrace)"
   ]
  },
  {
   "cell_type": "code",
   "execution_count": 4,
   "metadata": {},
   "outputs": [],
   "source": [
    "frame = 3000"
   ]
  },
  {
   "cell_type": "markdown",
   "metadata": {},
   "source": [
    "## FIFO"
   ]
  },
  {
   "cell_type": "code",
   "execution_count": 18,
   "metadata": {},
   "outputs": [
    {
     "name": "stderr",
     "output_type": "stream",
     "text": [
      "100%|█████████████████████████████████████████████████████████████████████| 1322897/1322897 [00:16<00:00, 78406.39it/s]\n"
     ]
    },
    {
     "name": "stdout",
     "output_type": "stream",
     "text": [
      "0.05459684314047125\n"
     ]
    }
   ],
   "source": [
    "cache = np.zeros((frame), dtype=int)\n",
    "hit, miss = 0, 0\n",
    "\n",
    "#print(\"block\", \"\\t\\t hit\", \"\\t\\t miss\", \"\\t\\t cache\", \"\\t\\tpointer\")\n",
    "\n",
    "pointer = 0\n",
    "for block in tqdm(blocktrace):\n",
    "    if block in cache:\n",
    "        hit += 1\n",
    "\n",
    "    elif frame - np.count_nonzero(cache) != 0:\n",
    "        cache[np.where(cache==0)[0][0]] = block\n",
    "        miss += 1\n",
    "\n",
    "    else:\n",
    "        cache[pointer % frame] = block\n",
    "        pointer += 1\n",
    "        miss += 1\n",
    "\n",
    "    #print(block, \"\\t\\t\", hit, \"\\t\\t\", miss, \"\\t\\t\", cache, \"\\t\\t\", pointer)\n",
    "\n",
    "hitrate = hit / (hit + miss)\n",
    "print(hitrate)"
   ]
  },
  {
   "cell_type": "markdown",
   "metadata": {},
   "source": [
    "## OPTIMAL"
   ]
  },
  {
   "cell_type": "code",
   "execution_count": 5,
   "metadata": {},
   "outputs": [],
   "source": [
    "def checkindexnp(item, nparray):\n",
    "\n",
    "    try:\n",
    "        return np.where(nparray==item)[0][0]\n",
    "    except IndexError:\n",
    "        return len(nparray)+1"
   ]
  },
  {
   "cell_type": "code",
   "execution_count": 6,
   "metadata": {},
   "outputs": [
    {
     "name": "stderr",
     "output_type": "stream",
     "text": [
      "100%|█████████████████████████████████████████████████████████████████████| 1322897/1322897 [00:16<00:00, 80017.09it/s]\n"
     ]
    },
    {
     "name": "stdout",
     "output_type": "stream",
     "text": [
      "hitrate:  0.34368847079413695\n"
     ]
    }
   ],
   "source": [
    "cache = np.zeros((frame), dtype=int)\n",
    "hit, miss = 0, 0\n",
    "\n",
    "#print(\"block\", \"\\t\\t hit\", \"\\t\\t miss\", \"\\t\\t cache\")\n",
    "i = 0\n",
    "for block in tqdm(blocktrace):\n",
    "    if block in cache:\n",
    "        hit += 1\n",
    "\n",
    "    elif frame - np.count_nonzero(cache) != 0:\n",
    "        cache[np.where(cache==0)[0][0]] = block\n",
    "        miss += 1\n",
    "\n",
    "    else:\n",
    "        \n",
    "        remain_block_trace = blocktrace[i:]\n",
    "        indexed = [checkindexnp(j, remain_block_trace) for j in cache]\n",
    "        cache[indexed.index(max(indexed))] = block\n",
    "        miss += 1\n",
    "    \n",
    "    i += 1\n",
    "    #print(block, \"\\t\\t\", hit, \"\\t\\t\", miss, \"\\t\\t\", cache)\n",
    "\n",
    "hitrate = hit / (hit + miss)\n",
    "print(\"hitrate: \", hitrate)"
   ]
  },
  {
   "cell_type": "code",
   "execution_count": 12,
   "metadata": {},
   "outputs": [
    {
     "name": "stderr",
     "output_type": "stream",
     "text": [
      "  0%|▏                                                                         | 3593/1322897 [00:04<27:36, 796.33it/s]\n"
     ]
    },
    {
     "ename": "KeyError",
     "evalue": "283221696",
     "output_type": "error",
     "traceback": [
      "\u001b[1;31m---------------------------------------------------------------------------\u001b[0m",
      "\u001b[1;31mKeyError\u001b[0m                                  Traceback (most recent call last)",
      "\u001b[1;32m<ipython-input-12-dd787f79e936>\u001b[0m in \u001b[0;36m<module>\u001b[1;34m()\u001b[0m\n\u001b[0;32m     16\u001b[0m         \u001b[0mindexed\u001b[0m \u001b[1;33m=\u001b[0m \u001b[1;33m[\u001b[0m\u001b[0mcheckindexnp\u001b[0m\u001b[1;33m(\u001b[0m\u001b[0mj\u001b[0m\u001b[1;33m,\u001b[0m \u001b[0mremain_block_trace\u001b[0m\u001b[1;33m)\u001b[0m \u001b[1;32mfor\u001b[0m \u001b[0mj\u001b[0m \u001b[1;32min\u001b[0m \u001b[0mhashkey\u001b[0m\u001b[1;33m]\u001b[0m\u001b[1;33m\u001b[0m\u001b[0m\n\u001b[0;32m     17\u001b[0m         \u001b[0mb\u001b[0m \u001b[1;33m=\u001b[0m \u001b[0mindexed\u001b[0m\u001b[1;33m.\u001b[0m\u001b[0mindex\u001b[0m\u001b[1;33m(\u001b[0m\u001b[0mmax\u001b[0m\u001b[1;33m(\u001b[0m\u001b[0mindexed\u001b[0m\u001b[1;33m)\u001b[0m\u001b[1;33m)\u001b[0m\u001b[1;33m\u001b[0m\u001b[0m\n\u001b[1;32m---> 18\u001b[1;33m         \u001b[0mhashkey\u001b[0m\u001b[1;33m.\u001b[0m\u001b[0mpop\u001b[0m\u001b[1;33m(\u001b[0m\u001b[0mcache\u001b[0m\u001b[1;33m[\u001b[0m\u001b[0mb\u001b[0m\u001b[1;33m]\u001b[0m\u001b[1;33m)\u001b[0m\u001b[1;33m\u001b[0m\u001b[0m\n\u001b[0m\u001b[0;32m     19\u001b[0m         \u001b[0mcache\u001b[0m\u001b[1;33m[\u001b[0m\u001b[0mb\u001b[0m\u001b[1;33m]\u001b[0m \u001b[1;33m=\u001b[0m \u001b[0mblock\u001b[0m\u001b[1;33m\u001b[0m\u001b[0m\n\u001b[0;32m     20\u001b[0m         \u001b[0mmiss\u001b[0m \u001b[1;33m+=\u001b[0m \u001b[1;36m1\u001b[0m\u001b[1;33m\u001b[0m\u001b[0m\n",
      "\u001b[1;31mKeyError\u001b[0m: 283221696"
     ]
    }
   ],
   "source": [
    "cache = np.zeros((frame), dtype=int)\n",
    "hashkey = {}\n",
    "hit, miss = 0, 0\n",
    "\n",
    "for i, block in enumerate(tqdm(blocktrace)):\n",
    "    if block in hashkey:\n",
    "        hit += 1\n",
    "        \n",
    "    elif frame - np.count_nonzero(cache) != 0:\n",
    "        cache[np.where(cache==0)[0][0]] = block\n",
    "        hashkey[block] = 1\n",
    "        miss += 1\n",
    "    \n",
    "    else:\n",
    "        remain_block_trace = blocktrace[i:]\n",
    "        indexed = [checkindexnp(j, remain_block_trace) for j in hashkey]\n",
    "        b = indexed.index(max(indexed))\n",
    "        hashkey.pop(cache[b])\n",
    "        cache[b] = block\n",
    "        miss += 1\n",
    "    \n",
    "hitrate = hit / (hit + miss)\n",
    "print(hitrate)"
   ]
  },
  {
   "cell_type": "code",
   "execution_count": null,
   "metadata": {},
   "outputs": [],
   "source": [
    "l = [1,2,3,4,3,4,5,3,5,6,7]\n",
    "l2 = np.array(l)"
   ]
  },
  {
   "cell_type": "code",
   "execution_count": 6,
   "metadata": {},
   "outputs": [
    {
     "data": {
      "text/plain": [
       "array([ True,  True,  True, ...,  True,  True,  True])"
      ]
     },
     "execution_count": 6,
     "metadata": {},
     "output_type": "execute_result"
    }
   ],
   "source": []
  },
  {
   "cell_type": "code",
   "execution_count": 5,
   "metadata": {},
   "outputs": [
    {
     "data": {
      "text/plain": [
       "array([283193184, 283193184, 283193208, ...,  74832032,  74836592,\n",
       "          748320])"
      ]
     },
     "execution_count": 5,
     "metadata": {},
     "output_type": "execute_result"
    }
   ],
   "source": [
    "blocktrace[34:]"
   ]
  },
  {
   "cell_type": "code",
   "execution_count": 8,
   "metadata": {},
   "outputs": [
    {
     "data": {
      "text/plain": [
       "7"
      ]
     },
     "execution_count": 8,
     "metadata": {},
     "output_type": "execute_result"
    }
   ],
   "source": [
    "l[10]"
   ]
  },
  {
   "cell_type": "code",
   "execution_count": null,
   "metadata": {},
   "outputs": [],
   "source": []
  }
 ],
 "metadata": {
  "kernelspec": {
   "display_name": "Python 3",
   "language": "python",
   "name": "python3"
  },
  "language_info": {
   "codemirror_mode": {
    "name": "ipython",
    "version": 3
   },
   "file_extension": ".py",
   "mimetype": "text/x-python",
   "name": "python",
   "nbconvert_exporter": "python",
   "pygments_lexer": "ipython3",
   "version": "3.7.0"
  }
 },
 "nbformat": 4,
 "nbformat_minor": 2
}
