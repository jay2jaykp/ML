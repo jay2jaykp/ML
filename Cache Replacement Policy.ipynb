{
 "cells": [
  {
   "cell_type": "code",
   "execution_count": 1,
   "metadata": {},
   "outputs": [],
   "source": [
    "import numpy as np\n",
    "from tqdm import tqdm\n",
    "import pandas as pd"
   ]
  },
  {
   "cell_type": "code",
   "execution_count": 2,
   "metadata": {},
   "outputs": [],
   "source": [
    "#upload data\n",
    "data = pd.read_csv('cheetah.cs.fiu.edu-110108-113008.1.blkparse', header=None)\n",
    "#remove heading\n",
    "data = data[3:]\n",
    "#split columns\n",
    "df = pd.DataFrame(data[0].str.split(' ',9).tolist())\n",
    "#extract one column --> blocktrace sequence\n",
    "blocktrace = df[3].tolist()\n",
    "#convert element to int from str\n",
    "blocktrace = [int(x) for x in blocktrace]"
   ]
  },
  {
   "cell_type": "code",
   "execution_count": 3,
   "metadata": {},
   "outputs": [],
   "source": [
    "frame = 3"
   ]
  },
  {
   "cell_type": "markdown",
   "metadata": {},
   "source": [
    "## FIFO"
   ]
  },
  {
   "cell_type": "code",
   "execution_count": 8,
   "metadata": {},
   "outputs": [
    {
     "name": "stderr",
     "output_type": "stream",
     "text": [
      "100%|██████████| 1322897/1322897 [00:05<00:00, 253344.34it/s]"
     ]
    },
    {
     "name": "stdout",
     "output_type": "stream",
     "text": [
      "0.048625856737145826\n"
     ]
    },
    {
     "name": "stderr",
     "output_type": "stream",
     "text": [
      "\n"
     ]
    }
   ],
   "source": [
    "cache = np.zeros((frame), dtype=int)\n",
    "hit, miss = 0, 0\n",
    "\n",
    "#print(\"block\", \"\\t\\t hit\", \"\\t\\t miss\", \"\\t\\t cache\", \"\\t\\tpointer\")\n",
    "\n",
    "pointer = 0\n",
    "for block in tqdm(blocktrace):\n",
    "    if block in cache:\n",
    "        hit += 1\n",
    "\n",
    "    elif frame - np.count_nonzero(cache) != 0:\n",
    "        cache[np.where(cache==0)[0][0]] = block\n",
    "        miss += 1\n",
    "\n",
    "    else:\n",
    "        cache[pointer % frame] = block\n",
    "        pointer += 1\n",
    "        miss += 1\n",
    "\n",
    "  #  print(block, \"\\t\\t\", hit, \"\\t\\t\", miss, \"\\t\\t\", cache, \"\\t\\t\", pointer)\n",
    "\n",
    "hitrate = hit / (hit + miss)\n",
    "print(hitrate)"
   ]
  },
  {
   "cell_type": "markdown",
   "metadata": {},
   "source": [
    "## OPTIMAL"
   ]
  },
  {
   "cell_type": "code",
   "execution_count": 9,
   "metadata": {},
   "outputs": [],
   "source": [
    "def checkindex(item, ilist):\n",
    "  \n",
    "  try:\n",
    "    return ilist.index(item)\n",
    "  except ValueError:\n",
    "    return -1 "
   ]
  },
  {
   "cell_type": "code",
   "execution_count": 35,
   "metadata": {},
   "outputs": [],
   "source": [
    "def checkindexnp(item, nparray):\n",
    "\n",
    "    try:\n",
    "        return np.where(nparray==item)[0][0]\n",
    "    except IndexError:\n",
    "        return -1"
   ]
  },
  {
   "cell_type": "code",
   "execution_count": null,
   "metadata": {},
   "outputs": [],
   "source": [
    "cache = np.zeros((frame), dtype=int)\n",
    "\n",
    "hit, miss = 0, 0\n",
    "\n",
    "print(\"block\", \"\\t\\t hit\", \"\\t\\t miss\", \"\\t\\t cache\")\n",
    "for i, block in enumerate(tqdm(blocktrace)):\n",
    "    if block in cache:\n",
    "        hit += 1\n",
    "\n",
    "\n",
    "    elif frame - np.count_nonzero(cache) != 0:\n",
    "        cache[np.where(cache==0)[0][0]] = block\n",
    "        miss += 1\n",
    "\n",
    "    else:\n",
    "        remain_block_trace = np.array(blocktrace[i:])\n",
    "\n",
    "        indexed = [checkindexnp(j, remain_block_trace) for j in cache]\n",
    "\n",
    "        indexed2 = np.array[filter(lambda a: a != -1, indexed)]\n",
    "\n",
    "        if len(indexed2) == 1:\n",
    "            random_block_index = np.random.randint(len(cache))\n",
    "            cache[random_block_index] = block\n",
    "            if remain_block_trace[indexed2[0]] not in cache:\n",
    "                cache[random_block_index] = block\n",
    "                cache.append(remain_block_trace[indexed2[0]])\n",
    "                cache.append(block)\n",
    "                miss += 1\n",
    "\n",
    "            elif len(indexed2) == 0:\n",
    "                cache.pop(0)\n",
    "                cache.append(block)\n",
    "                miss += 1\n",
    "\n",
    "            else:\n",
    "                cache.remove(remain_block_trace[max(indexed2)])\n",
    "                cache.append(block)\n",
    "                miss += 1\n",
    "\n",
    "\n",
    "    print(block, \"\\t\\t\", hit, \"\\t\\t\", miss, \"\\t\\t\", cache)\n",
    "\n",
    "hitrate = hit / (hit + miss)\n",
    "print(\"\\n\\nhitrate: \", hitrate)"
   ]
  },
  {
   "cell_type": "code",
   "execution_count": 4,
   "metadata": {},
   "outputs": [],
   "source": [
    "l = [1,2,3,4,3,4,5,3,5,6,7]\n",
    "l2 = np.array(l)"
   ]
  },
  {
   "cell_type": "code",
   "execution_count": 21,
   "metadata": {},
   "outputs": [
    {
     "data": {
      "text/plain": [
       "4"
      ]
     },
     "execution_count": 21,
     "metadata": {},
     "output_type": "execute_result"
    }
   ],
   "source": [
    "l2[3]"
   ]
  },
  {
   "cell_type": "code",
   "execution_count": 20,
   "metadata": {},
   "outputs": [
    {
     "data": {
      "text/plain": [
       "array([2, 3, 4, 3, 4, 5, 3, 5, 6, 7])"
      ]
     },
     "execution_count": 20,
     "metadata": {},
     "output_type": "execute_result"
    }
   ],
   "source": [
    "np.delete(l2, np.random.randint(len(l2)))"
   ]
  },
  {
   "cell_type": "code",
   "execution_count": null,
   "metadata": {},
   "outputs": [],
   "source": []
  }
 ],
 "metadata": {
  "kernelspec": {
   "display_name": "Python 3",
   "language": "python",
   "name": "python3"
  },
  "language_info": {
   "codemirror_mode": {
    "name": "ipython",
    "version": 3
   },
   "file_extension": ".py",
   "mimetype": "text/x-python",
   "name": "python",
   "nbconvert_exporter": "python",
   "pygments_lexer": "ipython3",
   "version": "3.7.0"
  }
 },
 "nbformat": 4,
 "nbformat_minor": 2
}
