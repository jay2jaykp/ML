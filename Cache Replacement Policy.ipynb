{
 "cells": [
  {
   "cell_type": "code",
   "execution_count": 14,
   "metadata": {},
   "outputs": [],
   "source": [
    "import numpy as np\n",
    "#from tqdm import tqdm\n",
    "from tqdm import tqdm_notebook as tqdm\n",
    "import pandas as pd\n",
    "import numpy as np\n",
    "from collections import defaultdict\n",
    "from functools import partial\n",
    "import matplotlib.pyplot as plt\n",
    "import time\n",
    "import argparse"
   ]
  },
  {
   "cell_type": "code",
   "execution_count": 2,
   "metadata": {},
   "outputs": [],
   "source": [
    "#upload data\n",
    "data = pd.read_csv('cheetah.cs.fiu.edu-110108-113008.1.blkparse', header=None)\n",
    "\n",
    "#split columns\n",
    "df = pd.DataFrame(data[0].str.split(' ',9).tolist())\n",
    "#extract one column --> blocktrace sequence\n",
    "blocktrace = df[3].tolist()\n",
    "#convert element to int from str\n",
    "blocktrace = np.array([int(x) for x in blocktrace])"
   ]
  },
  {
   "cell_type": "code",
   "execution_count": 3,
   "metadata": {},
   "outputs": [],
   "source": [
    "s = [0,1,2,0,1,3,0,3,1,2,1]\n",
    "f = 3"
   ]
  },
  {
   "cell_type": "code",
   "execution_count": 4,
   "metadata": {},
   "outputs": [],
   "source": [
    "frame = 3000"
   ]
  },
  {
   "cell_type": "markdown",
   "metadata": {},
   "source": [
    "## FIFO"
   ]
  },
  {
   "cell_type": "code",
   "execution_count": null,
   "metadata": {},
   "outputs": [],
   "source": [
    "def FIFO(blocktrace, frame):\n",
    "    cache = np.zeros((frame), dtype=int)\n",
    "    hit, miss = 0, 0\n",
    "\n",
    "    #print(\"block\", \"\\t\\t hit\", \"\\t\\t miss\", \"\\t\\t cache\", \"\\t\\tpointer\")\n",
    "\n",
    "    pointer = 0\n",
    "    for block in tqdm(blocktrace, desc=frame, leave=False):\n",
    "        if block in cache:\n",
    "            hit += 1\n",
    "\n",
    "        elif pointer < frame:\n",
    "            #cache[np.where(cache==0)[0][0]] = block\n",
    "            cache[pointer] = block\n",
    "            miss += 1\n",
    "            pointer += 1\n",
    "\n",
    "        else:\n",
    "            cache[pointer % frame] = block\n",
    "            pointer += 1\n",
    "            miss += 1\n",
    "\n",
    "        #print(block, \"\\t\\t\", hit, \"\\t\\t\", miss, \"\\t\\t\", cache, \"\\t\\t\", pointer)\n",
    "\n",
    "    hitrate = hit / (hit + miss)\n",
    "    #print(hitrate)\n",
    "    return hitrate"
   ]
  },
  {
   "cell_type": "markdown",
   "metadata": {},
   "source": [
    "## LFU"
   ]
  },
  {
   "cell_type": "code",
   "execution_count": 22,
   "metadata": {},
   "outputs": [],
   "source": [
    "def LFU(blocktrace, frame):\n",
    "    cache = set()\n",
    "    FU = defaultdict(int)\n",
    "    FU_cache = defaultdict(int)\n",
    "\n",
    "    hit, miss = 0, 0\n",
    "    \n",
    "    #print(\"block\", \"\\t\\t hit\", \"\\t\\t miss\", \"\\t\\t cache\")\n",
    "    for block in tqdm(blocktrace, desc=\"LFU\", leave=False):\n",
    "        FU[block] += 1\n",
    "\n",
    "        if block in cache:\n",
    "            hit += 1\n",
    "            FU_cache[block] = FU[block]\n",
    "        \n",
    "        elif len(cache) < frame:\n",
    "            FU_cache[block] = FU[block]\n",
    "            cache.add(block)\n",
    "            miss += 1\n",
    "\n",
    "        else:\n",
    "            e, f = min(FU_cache.items(), key=lambda a: a[1])\n",
    "            del FU_cache[e]\n",
    "            cache.remove(e)\n",
    "            cache.add(block)\n",
    "            FU_cache[block] = FU[block]\n",
    "            miss += 1\n",
    "        #print(block, \"\\t\\t\", hit, \"\\t\\t\", miss, \"\\t\\t\", cache)\n",
    "\n",
    "    hitrate = hit / (hit + miss)\n",
    "    #print(\"\\n\\nhitrate: \", hitrate)\n",
    "    return hitrate"
   ]
  },
  {
   "cell_type": "code",
   "execution_count": null,
   "metadata": {},
   "outputs": [
    {
     "data": {
      "application/vnd.jupyter.widget-view+json": {
       "model_id": "9fd1b7374dfa4c6e9f55d42abe6dcef1",
       "version_major": 2,
       "version_minor": 0
      },
      "text/plain": [
       "HBox(children=(IntProgress(value=0, description='LFU', max=1322890), HTML(value='')))"
      ]
     },
     "metadata": {},
     "output_type": "display_data"
    }
   ],
   "source": [
    "LFU(blocktrace, 3000)"
   ]
  },
  {
   "cell_type": "markdown",
   "metadata": {},
   "source": [
    "## LRU"
   ]
  },
  {
   "cell_type": "code",
   "execution_count": 23,
   "metadata": {},
   "outputs": [],
   "source": [
    "def LRU(blocktrace, frame):\n",
    "    cache = set()\n",
    "    recent_block = np.array([], dtype=int)\n",
    "    \n",
    "    hit, miss = 0, 0\n",
    "    \n",
    "    #print(\"block\", \"\\t\\t hit\", \"\\t\\t miss\", \"\\t\\t cache\")\n",
    "    for block in tqdm(blocktrace, desc=\"LRU\", leave=False):\n",
    "    \n",
    "        if block in cache:\n",
    "            recent_block = np.delete(recent_block, np.argwhere(recent_block==block))\n",
    "            recent_block = np.append(recent_block, block)\n",
    "            hit += 1\n",
    "            \n",
    "        \n",
    "        elif len(cache) < frame:\n",
    "            recent_block = np.append(recent_block, block)\n",
    "            cache.add(block)\n",
    "            miss += 1\n",
    "\n",
    "        else:\n",
    "            cache.remove(recent_block[0])\n",
    "            recent_block = recent_block[1:]\n",
    "            recent_block = np.append(recent_block, block)\n",
    "            cache.add(block)\n",
    "            miss += 1\n",
    "        #print(block, \"\\t\\t\", hit, \"\\t\\t\", miss, \"\\t\\t\", cache)\n",
    "\n",
    "    hitrate = hit / (hit + miss)\n",
    "    #print(\"\\n\\nhitrate: \", hitrate)\n",
    "    return hitrate"
   ]
  },
  {
   "cell_type": "code",
   "execution_count": 59,
   "metadata": {},
   "outputs": [
    {
     "data": {
      "application/vnd.jupyter.widget-view+json": {
       "model_id": "ecb45d1fde5e4c1f86099db087b06ac1",
       "version_major": 2,
       "version_minor": 0
      },
      "text/plain": [
       "HBox(children=(IntProgress(value=0, description='LRU', max=1322890), HTML(value='')))"
      ]
     },
     "metadata": {},
     "output_type": "display_data"
    },
    {
     "name": "stderr",
     "output_type": "stream",
     "text": [
      "Exception ignored in: <function tqdm.__del__ at 0x000002435579B950>\n",
      "Traceback (most recent call last):\n",
      "  File \"C:\\Users\\Jay\\Anaconda3\\lib\\site-packages\\tqdm\\_tqdm.py\", line 889, in __del__\n",
      "    self.close()\n",
      "  File \"C:\\Users\\Jay\\Anaconda3\\lib\\site-packages\\tqdm\\_tqdm.py\", line 1095, in close\n",
      "    self._decr_instances(self)\n",
      "  File \"C:\\Users\\Jay\\Anaconda3\\lib\\site-packages\\tqdm\\_tqdm.py\", line 454, in _decr_instances\n",
      "    cls.monitor.exit()\n",
      "  File \"C:\\Users\\Jay\\Anaconda3\\lib\\site-packages\\tqdm\\_monitor.py\", line 52, in exit\n",
      "    self.join()\n",
      "  File \"C:\\Users\\Jay\\Anaconda3\\lib\\threading.py\", line 1029, in join\n",
      "    raise RuntimeError(\"cannot join current thread\")\n",
      "RuntimeError: cannot join current thread\n"
     ]
    },
    {
     "name": "stdout",
     "output_type": "stream",
     "text": [
      "\n",
      "\n",
      "\n",
      "hitrate:  0.05470598462457196\n"
     ]
    },
    {
     "data": {
      "text/plain": [
       "0.05470598462457196"
      ]
     },
     "execution_count": 59,
     "metadata": {},
     "output_type": "execute_result"
    }
   ],
   "source": [
    "LRU(blocktrace, 3000)"
   ]
  },
  {
   "cell_type": "code",
   "execution_count": 57,
   "metadata": {},
   "outputs": [
    {
     "name": "stderr",
     "output_type": "stream",
     "text": [
      "\n",
      "LRU:   0%|                                                                                      | 0/11 [00:00<?, ?it/s]\n",
      "LRU: 100%|███████████████████████████████████████████████████████████████████████████| 11/11 [00:00<00:00, 4436.28it/s]"
     ]
    },
    {
     "name": "stdout",
     "output_type": "stream",
     "text": [
      "\n",
      "\n",
      "hitrate:  0.5454545454545454\n"
     ]
    },
    {
     "data": {
      "text/plain": [
       "0.5454545454545454"
      ]
     },
     "execution_count": 57,
     "metadata": {},
     "output_type": "execute_result"
    }
   ],
   "source": [
    "LRU(s, f)"
   ]
  },
  {
   "cell_type": "markdown",
   "metadata": {},
   "source": [
    "## OPTIMAL"
   ]
  },
  {
   "cell_type": "code",
   "execution_count": 8,
   "metadata": {},
   "outputs": [],
   "source": [
    "'''\n",
    "get the furthest accessed block. Scans OPT dictionary and selects the maximum positioned element\n",
    "'''\n",
    "\n",
    "def getFurthestAccessBlock(C, OPT):\n",
    "    maxAccessPosition = -1\n",
    "    maxAccessBlock = -1\n",
    "    for cached_block in C:\n",
    "        if len(OPT[cached_block]) is 0:\n",
    "            #print ( \"Not Acccessing block anymore \" + str(cached_block))\n",
    "            return cached_block            \n",
    "    for cached_block in C:  \n",
    "        if OPT[cached_block][0] > maxAccessPosition:\n",
    "            maxAccessPosition = OPT[cached_block][0]\n",
    "            maxAccessBlock = cached_block\n",
    "    #print ( \"chose to evict \" + str(maxAccessBlock) + \" since its position of access is \" + str(maxAccessPosition))\n",
    "    return maxAccessBlock"
   ]
  },
  {
   "cell_type": "code",
   "execution_count": null,
   "metadata": {},
   "outputs": [],
   "source": [
    "def belady_opt(blocktrace, frame):\n",
    "    OPT = defaultdict(partial(np.ndarray,0))\n",
    "\n",
    "    for i, block in enumerate(tqdm(blocktrace, desc=\"OPT: building index\")):\n",
    "        OPT[block] = np.append(OPT[block], i)    \n",
    "\n",
    "    #print (\"created OPT dictionary\")    \n",
    "\n",
    "    hit, miss = 0, 0\n",
    "\n",
    "    C = set()\n",
    "\n",
    "    seq_number = 0\n",
    "    for block in tqdm(blocktrace, desc=\"OPT\", leave=False):\n",
    "\n",
    "        if block in C:\n",
    "            #OPT[block] = OPT[block][1:]\n",
    "            OPT[block] = np.delete(OPT[block],0)\n",
    "            hit+=1\n",
    "            #print('hit' + str(block))\n",
    "            #print(OPT)\n",
    "        else:\n",
    "            #print('miss' + str(block))\n",
    "            miss+=1\n",
    "            if len(C) == frame:\n",
    "                fblock = getFurthestAccessBlock(C, OPT)\n",
    "                assert(fblock != -1)\n",
    "                C.remove(fblock)\n",
    "            C.add(block)\n",
    "            #OPT[block] = OPT[block][1:]\n",
    "            #print(OPT)\n",
    "            OPT[block] = np.delete(OPT[block],[0])\n",
    "\n",
    "    #print (\"hit count\" + str(hit_count))\n",
    "    #print (\"miss count\" + str(miss_count))\n",
    "    hitrate = hit_count / (hit_count + miss_count)\n",
    "    #print(hitrate)\n",
    "    return hitrate"
   ]
  },
  {
   "cell_type": "code",
   "execution_count": null,
   "metadata": {},
   "outputs": [
    {
     "name": "stderr",
     "output_type": "stream",
     "text": [
      "build index: 100%|███████████████████████████████████████████████████████| 1322890/1322890 [00:11<00:00, 118827.92it/s]\n",
      "run OPT:  35%|██████████████████████▏                                        | 464748/1322890 [07:46<19:44, 724.69it/s]"
     ]
    }
   ],
   "source": [
    "belady_opt(blocktrace, 3000)"
   ]
  },
  {
   "cell_type": "code",
   "execution_count": 11,
   "metadata": {},
   "outputs": [],
   "source": [
    "frame_range = [3000, 5000, 10000, 50000, 100000]"
   ]
  },
  {
   "cell_type": "code",
   "execution_count": null,
   "metadata": {},
   "outputs": [],
   "source": [
    "performance = {}"
   ]
  },
  {
   "cell_type": "code",
   "execution_count": 25,
   "metadata": {},
   "outputs": [
    {
     "data": {
      "application/vnd.jupyter.widget-view+json": {
       "model_id": "",
       "version_major": 2,
       "version_minor": 0
      },
      "text/plain": [
       "HBox(children=(IntProgress(value=0, description='LRU', max=1322890), HTML(value='')))"
      ]
     },
     "metadata": {},
     "output_type": "display_data"
    },
    {
     "name": "stdout",
     "output_type": "stream",
     "text": [
      "\r"
     ]
    },
    {
     "data": {
      "application/vnd.jupyter.widget-view+json": {
       "model_id": "",
       "version_major": 2,
       "version_minor": 0
      },
      "text/plain": [
       "HBox(children=(IntProgress(value=0, description='LRU', max=1322890), HTML(value='')))"
      ]
     },
     "metadata": {},
     "output_type": "display_data"
    },
    {
     "name": "stdout",
     "output_type": "stream",
     "text": [
      "\r"
     ]
    },
    {
     "data": {
      "application/vnd.jupyter.widget-view+json": {
       "model_id": "",
       "version_major": 2,
       "version_minor": 0
      },
      "text/plain": [
       "HBox(children=(IntProgress(value=0, description='LRU', max=1322890), HTML(value='')))"
      ]
     },
     "metadata": {},
     "output_type": "display_data"
    },
    {
     "name": "stdout",
     "output_type": "stream",
     "text": [
      "\r"
     ]
    },
    {
     "data": {
      "application/vnd.jupyter.widget-view+json": {
       "model_id": "",
       "version_major": 2,
       "version_minor": 0
      },
      "text/plain": [
       "HBox(children=(IntProgress(value=0, description='LRU', max=1322890), HTML(value='')))"
      ]
     },
     "metadata": {},
     "output_type": "display_data"
    },
    {
     "name": "stdout",
     "output_type": "stream",
     "text": [
      "\r"
     ]
    },
    {
     "data": {
      "application/vnd.jupyter.widget-view+json": {
       "model_id": "",
       "version_major": 2,
       "version_minor": 0
      },
      "text/plain": [
       "HBox(children=(IntProgress(value=0, description='LRU', max=1322890), HTML(value='')))"
      ]
     },
     "metadata": {},
     "output_type": "display_data"
    },
    {
     "name": "stdout",
     "output_type": "stream",
     "text": [
      "\r"
     ]
    }
   ],
   "source": [
    "result = []\n",
    "for frame in frame_range:\n",
    "    t = time.time()\n",
    "    ans = LRU(blocktrace, frame)\n",
    "    result.append((ans, time.time() - t))\n",
    "performance['LRU'] = result"
   ]
  },
  {
   "cell_type": "code",
   "execution_count": null,
   "metadata": {
    "scrolled": true
   },
   "outputs": [
    {
     "data": {
      "application/vnd.jupyter.widget-view+json": {
       "model_id": "",
       "version_major": 2,
       "version_minor": 0
      },
      "text/plain": [
       "HBox(children=(IntProgress(value=0, description='LFU', max=1322890), HTML(value='')))"
      ]
     },
     "metadata": {},
     "output_type": "display_data"
    },
    {
     "name": "stdout",
     "output_type": "stream",
     "text": [
      "\n",
      "\n",
      "hitrate:  0.05724814610436242\n"
     ]
    },
    {
     "data": {
      "application/vnd.jupyter.widget-view+json": {
       "model_id": "",
       "version_major": 2,
       "version_minor": 0
      },
      "text/plain": [
       "HBox(children=(IntProgress(value=0, description='LFU', max=1322890), HTML(value='')))"
      ]
     },
     "metadata": {},
     "output_type": "display_data"
    },
    {
     "name": "stdout",
     "output_type": "stream",
     "text": [
      "\n",
      "\n",
      "hitrate:  0.06510896597600707\n"
     ]
    },
    {
     "data": {
      "application/vnd.jupyter.widget-view+json": {
       "model_id": "",
       "version_major": 2,
       "version_minor": 0
      },
      "text/plain": [
       "HBox(children=(IntProgress(value=0, description='LFU', max=1322890), HTML(value='')))"
      ]
     },
     "metadata": {},
     "output_type": "display_data"
    },
    {
     "name": "stdout",
     "output_type": "stream",
     "text": [
      "\n",
      "\n",
      "hitrate:  0.08165153565300214\n"
     ]
    },
    {
     "data": {
      "application/vnd.jupyter.widget-view+json": {
       "model_id": "",
       "version_major": 2,
       "version_minor": 0
      },
      "text/plain": [
       "HBox(children=(IntProgress(value=0, description='LFU', max=1322890), HTML(value='')))"
      ]
     },
     "metadata": {},
     "output_type": "display_data"
    },
    {
     "name": "stdout",
     "output_type": "stream",
     "text": [
      "\n",
      "\n",
      "hitrate:  0.19543726235741446\n"
     ]
    },
    {
     "data": {
      "application/vnd.jupyter.widget-view+json": {
       "model_id": "f10ee09b689945789ba40b1413155d26",
       "version_major": 2,
       "version_minor": 0
      },
      "text/plain": [
       "HBox(children=(IntProgress(value=0, description='LFU', max=1322890), HTML(value='')))"
      ]
     },
     "metadata": {},
     "output_type": "display_data"
    }
   ],
   "source": [
    "result = []\n",
    "for frame in frame_range:\n",
    "    t = time.time()\n",
    "    ans = LFU(blocktrace, frame)\n",
    "    result.append((ans, time.time() - t))\n",
    "performance['LFU'] = result"
   ]
  },
  {
   "cell_type": "code",
   "execution_count": 16,
   "metadata": {},
   "outputs": [],
   "source": [
    "result = []\n",
    "for frame in frame_range:\n",
    "    t = time.time()\n",
    "    ans = FIFO(blocktrace, frame)\n",
    "    result.append((ans, time.time() - t))\n",
    "performance['FIFO'] = result"
   ]
  },
  {
   "cell_type": "code",
   "execution_count": 20,
   "metadata": {},
   "outputs": [
    {
     "data": {
      "text/plain": [
       "-19.53780484199524"
      ]
     },
     "execution_count": 20,
     "metadata": {},
     "output_type": "execute_result"
    }
   ],
   "source": [
    "result = []\n",
    "for frame in frame_range:\n",
    "    t = time.time()\n",
    "    ans = belady_opt(blocktrace, frame)\n",
    "    result.append((ans, time.time() - t))\n",
    "performance['OPT'] = result"
   ]
  },
  {
   "cell_type": "code",
   "execution_count": null,
   "metadata": {},
   "outputs": [],
   "source": []
  }
 ],
 "metadata": {
  "kernelspec": {
   "display_name": "Python 3",
   "language": "python",
   "name": "python3"
  },
  "language_info": {
   "codemirror_mode": {
    "name": "ipython",
    "version": 3
   },
   "file_extension": ".py",
   "mimetype": "text/x-python",
   "name": "python",
   "nbconvert_exporter": "python",
   "pygments_lexer": "ipython3",
   "version": "3.7.0"
  }
 },
 "nbformat": 4,
 "nbformat_minor": 2
}
