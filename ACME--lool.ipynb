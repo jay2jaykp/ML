{
 "cells": [
  {
   "cell_type": "code",
   "execution_count": 23,
   "metadata": {},
   "outputs": [],
   "source": [
    "from tqdm import tqdm_notebook as tqdm \n",
    "import numpy as np\n",
    "from collections import deque, defaultdict, OrderedDict\n"
   ]
  },
  {
   "cell_type": "code",
   "execution_count": 147,
   "metadata": {},
   "outputs": [],
   "source": [
    "index = 0\n",
    "frame = 4\n",
    "cache = deque(maxlen=int(frame/2))\n",
    "FIFOcache = deque(maxlen=frame)\n",
    "LRUcache = deque(maxlen=frame)\n",
    "LFUcache = deque(maxlen=frame)\n",
    "frequency = defaultdict(int)\n",
    "weight = defaultdict(int)\n",
    "hit, miss = 0, 0 "
   ]
  },
  {
   "cell_type": "code",
   "execution_count": 81,
   "metadata": {},
   "outputs": [
    {
     "data": {
      "text/plain": [
       "deque([1, 2, 3, 4])"
      ]
     },
     "execution_count": 81,
     "metadata": {},
     "output_type": "execute_result"
    }
   ],
   "source": [
    "LRUCache"
   ]
  },
  {
   "cell_type": "code",
   "execution_count": 146,
   "metadata": {},
   "outputs": [
    {
     "data": {
      "text/plain": [
       "array([ 4,  3, 14, ...,  9,  4, 14])"
      ]
     },
     "execution_count": 146,
     "metadata": {},
     "output_type": "execute_result"
    }
   ],
   "source": [
    "blocktrace = np.random.randint(15, size=(50000))\n",
    "blocktrace"
   ]
  },
  {
   "cell_type": "code",
   "execution_count": 139,
   "metadata": {},
   "outputs": [],
   "source": [
    "weight['LFU'] = 10"
   ]
  },
  {
   "cell_type": "code",
   "execution_count": 148,
   "metadata": {},
   "outputs": [],
   "source": [
    "for i in blocktrace:\n",
    "    checkVirtualCache(i)\n",
    "    if i in cache:\n",
    "        hit += 1\n",
    "        cache.remove(i)\n",
    "        cache.append(i)\n",
    "    \n",
    "    else:\n",
    "        miss += 1\n",
    "        \n",
    "        policy = max(weight, key=weight.get)\n",
    "        #print(policy)\n",
    "        if policy == 'FIFO':\n",
    "            #print('FIFO')\n",
    "            cache.append(i)\n",
    "        \n",
    "        elif policy == 'LFU':\n",
    "            #print('LFU')\n",
    "            tempFrequency = {k:j for k,j in frequency.items() if k in cache}\n",
    "            try:\n",
    "                cache.remove(min(tempFrequency, key=tempFrequency.get))\n",
    "            except:\n",
    "                pass\n",
    "            cache.append(i)\n",
    "        \n",
    "        else:\n",
    "            #print('LRU')\n",
    "            cache.append(i)"
   ]
  },
  {
   "cell_type": "code",
   "execution_count": 134,
   "metadata": {},
   "outputs": [],
   "source": [
    "def checkVirtualCache(newBlock):\n",
    "    global frequency, weight, LRUcache, LFUcache, FIFOcache\n",
    "    frequency[newBlock] += 1\n",
    "    \n",
    "    if newBlock in LRUcache:\n",
    "        weight[\"LRU\"] += 1\n",
    "        LRUcache.remove(newBlock)\n",
    "        LRUcache.append(newBlock)\n",
    "    else:\n",
    "        weight[\"LRU\"] -= 1\n",
    "        LRUcache.append(newBlock)\n",
    "    \n",
    "    if newBlock in LFUcache:\n",
    "        weight[\"LFU\"] += 1\n",
    "    else:\n",
    "        weight[\"LFU\"] -= 1\n",
    "        tempFrequency = {i:j for i,j in frequency.items() if i in LFUcache}\n",
    "        try:\n",
    "            LFUcache.remove(min(tempFrequency, key=tempFrequency.get))\n",
    "        except:\n",
    "            pass\n",
    "        LFUcache.append(newBlock)\n",
    "        \n",
    "    if newBlock in FIFOcache:\n",
    "        weight[\"FIFO\"] += 1\n",
    "    else:\n",
    "        weight[\"FIFO\"] -= 1\n",
    "        FIFOcache.append(newBlock)"
   ]
  },
  {
   "cell_type": "code",
   "execution_count": 102,
   "metadata": {},
   "outputs": [
    {
     "data": {
      "text/plain": [
       "'a'"
      ]
     },
     "execution_count": 102,
     "metadata": {},
     "output_type": "execute_result"
    }
   ],
   "source": [
    "max(d, key=d.get)"
   ]
  },
  {
   "cell_type": "code",
   "execution_count": 97,
   "metadata": {},
   "outputs": [],
   "source": [
    "d = defaultdict(int)\n",
    "d['b'] = 1\n",
    "d['a'] = 2\n",
    "d['c'] = 2"
   ]
  },
  {
   "cell_type": "code",
   "execution_count": 101,
   "metadata": {},
   "outputs": [],
   "source": [
    "d['a'] += 1"
   ]
  },
  {
   "cell_type": "code",
   "execution_count": 149,
   "metadata": {},
   "outputs": [
    {
     "data": {
      "text/plain": [
       "0.13124"
      ]
     },
     "execution_count": 149,
     "metadata": {},
     "output_type": "execute_result"
    }
   ],
   "source": [
    "hit / (hit + miss)"
   ]
  },
  {
   "cell_type": "code",
   "execution_count": 142,
   "metadata": {},
   "outputs": [],
   "source": [
    "def getFurthestAccessBlock(C, OPT):\n",
    "    maxAccessPosition = -1\n",
    "    maxAccessBlock = -1\n",
    "    for cached_block in C:\n",
    "        if len(OPT[cached_block]) is 0:\n",
    "            return cached_block            \n",
    "    for cached_block in C:\n",
    "        if OPT[cached_block][0] > maxAccessPosition:\n",
    "            maxAccessPosition = OPT[cached_block][0]\n",
    "            maxAccessBlock = cached_block\n",
    "    return maxAccessBlock\n",
    "\n",
    "def belady_opt(blocktrace, frame):\n",
    "    OPT = defaultdict(deque)\n",
    "\n",
    "    for i, block in enumerate(tqdm(blocktrace, desc=\"OPT: building index\")):\n",
    "        OPT[block].append(i)    \n",
    "\n",
    "    #print (\"created OPT dictionary\")    \n",
    "\n",
    "    hit, miss = 0, 0\n",
    "\n",
    "    C = set()\n",
    "    seq_number = 0\n",
    "    for block in tqdm(blocktrace, desc=\"OPT\"):\n",
    "\n",
    "        if block in C:\n",
    "            #OPT[block] = OPT[block][1:]\n",
    "            OPT[block].popleft()\n",
    "            hit+=1\n",
    "            #print('hit' + str(block))\n",
    "            #print(OPT)\n",
    "        else:\n",
    "            #print('miss' + str(block))\n",
    "            miss+=1\n",
    "            if len(C) == frame:\n",
    "                fblock = getFurthestAccessBlock(C, OPT)\n",
    "                assert(fblock != -1)\n",
    "                C.remove(fblock)\n",
    "            C.add(block)\n",
    "            #OPT[block] = OPT[block][1:]\n",
    "            #print(OPT)\n",
    "            OPT[block].popleft()\n",
    "\n",
    "    #print (\"hit count\" + str(hit_count))\n",
    "    #print (\"miss count\" + str(miss_count))\n",
    "    hitrate = hit / (hit + miss)\n",
    "    #print(hitrate)\n",
    "    return hitrate"
   ]
  },
  {
   "cell_type": "code",
   "execution_count": 150,
   "metadata": {},
   "outputs": [
    {
     "data": {
      "application/vnd.jupyter.widget-view+json": {
       "model_id": "",
       "version_major": 2,
       "version_minor": 0
      },
      "text/plain": [
       "HBox(children=(IntProgress(value=0, description='OPT: building index', max=50000, style=ProgressStyle(descript…"
      ]
     },
     "metadata": {},
     "output_type": "display_data"
    },
    {
     "name": "stdout",
     "output_type": "stream",
     "text": [
      "\n"
     ]
    },
    {
     "data": {
      "application/vnd.jupyter.widget-view+json": {
       "model_id": "",
       "version_major": 2,
       "version_minor": 0
      },
      "text/plain": [
       "HBox(children=(IntProgress(value=0, description='OPT', max=50000, style=ProgressStyle(description_width='initi…"
      ]
     },
     "metadata": {},
     "output_type": "display_data"
    },
    {
     "name": "stdout",
     "output_type": "stream",
     "text": [
      "\n"
     ]
    },
    {
     "data": {
      "text/plain": [
       "0.27828"
      ]
     },
     "execution_count": 150,
     "metadata": {},
     "output_type": "execute_result"
    }
   ],
   "source": [
    "belady_opt(blocktrace, 2)"
   ]
  },
  {
   "cell_type": "code",
   "execution_count": 144,
   "metadata": {},
   "outputs": [],
   "source": [
    "def LRU(blocktrace, frame):\n",
    "    cache = set()\n",
    "    recent_block = np.array([], dtype=int)\n",
    "    \n",
    "    hit, miss = 0, 0\n",
    "    \n",
    "    #print(\"block\", \"\\t\\t hit\", \"\\t\\t miss\", \"\\t\\t cache\")\n",
    "    for block in tqdm(blocktrace, desc=\"LRU\", leave=False):\n",
    "    \n",
    "        if block in cache:\n",
    "            recent_block = np.delete(recent_block, np.argwhere(recent_block==block))\n",
    "            recent_block = np.append(recent_block, block)\n",
    "            hit += 1\n",
    "            \n",
    "        \n",
    "        elif len(cache) < frame:\n",
    "            recent_block = np.append(recent_block, block)\n",
    "            cache.add(block)\n",
    "            miss += 1\n",
    "\n",
    "        else:\n",
    "            cache.remove(recent_block[0])\n",
    "            recent_block = recent_block[1:]\n",
    "            recent_block = np.append(recent_block, block)\n",
    "            cache.add(block)\n",
    "            miss += 1\n",
    "        #print(block, \"\\t\\t\", hit, \"\\t\\t\", miss, \"\\t\\t\", cache)\n",
    "\n",
    "    hitrate = hit / (hit + miss)\n",
    "    #print(\"\\n\\nhitrate: \", hitrate)\n",
    "    return hitrate"
   ]
  },
  {
   "cell_type": "code",
   "execution_count": 151,
   "metadata": {},
   "outputs": [
    {
     "data": {
      "application/vnd.jupyter.widget-view+json": {
       "model_id": "",
       "version_major": 2,
       "version_minor": 0
      },
      "text/plain": [
       "HBox(children=(IntProgress(value=0, description='LRU', max=50000, style=ProgressStyle(description_width='initi…"
      ]
     },
     "metadata": {},
     "output_type": "display_data"
    },
    {
     "name": "stdout",
     "output_type": "stream",
     "text": [
      "\r"
     ]
    },
    {
     "data": {
      "text/plain": [
       "0.13124"
      ]
     },
     "execution_count": 151,
     "metadata": {},
     "output_type": "execute_result"
    }
   ],
   "source": [
    "LRU(blocktrace, 2)"
   ]
  },
  {
   "cell_type": "code",
   "execution_count": 152,
   "metadata": {},
   "outputs": [],
   "source": [
    "def LRU(blocktrace, frame):\n",
    "    cache = set()\n",
    "    recent_block = np.array([], dtype=int)\n",
    "    \n",
    "    hit, miss = 0, 0\n",
    "    \n",
    "    #print(\"block\", \"\\t\\t hit\", \"\\t\\t miss\", \"\\t\\t cache\")\n",
    "    for block in tqdm(blocktrace, desc=\"LRU\", leave=False):\n",
    "    \n",
    "        if block in cache:\n",
    "            recent_block = np.delete(recent_block, np.argwhere(recent_block==block))\n",
    "            recent_block = np.append(recent_block, block)\n",
    "            hit += 1\n",
    "            \n",
    "        \n",
    "        elif len(cache) < frame:\n",
    "            recent_block = np.append(recent_block, block)\n",
    "            cache.add(block)\n",
    "            miss += 1\n",
    "\n",
    "        else:\n",
    "            cache.remove(recent_block[0])\n",
    "            recent_block = recent_block[1:]\n",
    "            recent_block = np.append(recent_block, block)\n",
    "            cache.add(block)\n",
    "            miss += 1\n",
    "        #print(block, \"\\t\\t\", hit, \"\\t\\t\", miss, \"\\t\\t\", cache)\n",
    "\n",
    "    hitrate = hit / (hit + miss)\n",
    "    #print(\"\\n\\nhitrate: \", hitrate)\n",
    "    return hitrate"
   ]
  },
  {
   "cell_type": "code",
   "execution_count": 153,
   "metadata": {},
   "outputs": [
    {
     "data": {
      "application/vnd.jupyter.widget-view+json": {
       "model_id": "",
       "version_major": 2,
       "version_minor": 0
      },
      "text/plain": [
       "HBox(children=(IntProgress(value=0, description='LRU', max=50000, style=ProgressStyle(description_width='initi…"
      ]
     },
     "metadata": {},
     "output_type": "display_data"
    },
    {
     "name": "stdout",
     "output_type": "stream",
     "text": [
      "\r"
     ]
    },
    {
     "data": {
      "text/plain": [
       "0.33042"
      ]
     },
     "execution_count": 153,
     "metadata": {},
     "output_type": "execute_result"
    }
   ],
   "source": [
    "LRU(blocktrace, 5)"
   ]
  },
  {
   "cell_type": "code",
   "execution_count": null,
   "metadata": {},
   "outputs": [],
   "source": []
  }
 ],
 "metadata": {
  "kernelspec": {
   "display_name": "Python 3",
   "language": "python",
   "name": "python3"
  },
  "language_info": {
   "codemirror_mode": {
    "name": "ipython",
    "version": 3
   },
   "file_extension": ".py",
   "mimetype": "text/x-python",
   "name": "python",
   "nbconvert_exporter": "python",
   "pygments_lexer": "ipython3",
   "version": "3.6.5"
  }
 },
 "nbformat": 4,
 "nbformat_minor": 2
}
