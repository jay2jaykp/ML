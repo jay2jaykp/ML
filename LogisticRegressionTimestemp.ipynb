{
  "nbformat": 4,
  "nbformat_minor": 0,
  "metadata": {
    "colab": {
      "name": "LogisticRegression.ipynb",
      "version": "0.3.2",
      "provenance": [],
      "include_colab_link": true
    },
    "kernelspec": {
      "name": "python3",
      "display_name": "Python 3"
    }
  },
  "cells": [
    {
      "cell_type": "markdown",
      "metadata": {
        "id": "view-in-github",
        "colab_type": "text"
      },
      "source": [
        "<a href=\"https://colab.research.google.com/github/jay2jaykp/ML/blob/master/LogisticRegressionTimestemp.ipynb\" target=\"_parent\"><img src=\"https://colab.research.google.com/assets/colab-badge.svg\" alt=\"Open In Colab\"/></a>"
      ]
    },
    {
      "metadata": {
        "id": "D7enJdI8kj-1",
        "colab_type": "code",
        "colab": {}
      },
      "cell_type": "code",
      "source": [
        "import numpy as np\n",
        "from tqdm import tqdm\n",
        "#from tqdm import tqdm_notebook as tqdm\n",
        "import pandas as pd\n",
        "import numpy as np\n",
        "from collections import defaultdict\n",
        "from functools import partial\n",
        "import matplotlib.pyplot as plt\n",
        "from matplotlib.pyplot import figure \n",
        "import time\n",
        "import argparse\n",
        "from sklearn.model_selection import train_test_split\n",
        "from sklearn.linear_model import LogisticRegression\n",
        "from sklearn.metrics import accuracy_score\n",
        "from sklearn.feature_extraction.text import CountVectorizer\n",
        "#from sklearn.preprocessing import OneHotEncoder\n",
        "from sklearn.preprocessing import MultiLabelBinarizer\n",
        "from collections import deque"
      ],
      "execution_count": 0,
      "outputs": []
    },
    {
      "metadata": {
        "id": "2iu0QfkmogA9",
        "colab_type": "text"
      },
      "cell_type": "markdown",
      "source": [
        ""
      ]
    },
    {
      "metadata": {
        "id": "tG33LZ34qrGM",
        "colab_type": "code",
        "colab": {
          "base_uri": "https://localhost:8080/",
          "height": 195
        },
        "outputId": "ca879ba2-6384-427c-f924-559a98f80899"
      },
      "cell_type": "code",
      "source": [
        "df = pd.read_csv('smalltrace.csv', sep='\\t')\n",
        "df.columns = ['no','timestamp','pid','pname','bno', 'bsize', 'op', 'dvmajor', 'dvminor', 'blockhash']\n",
        "df.head()"
      ],
      "execution_count": 58,
      "outputs": [
        {
          "output_type": "execute_result",
          "data": {
            "text/html": [
              "<div>\n",
              "<style scoped>\n",
              "    .dataframe tbody tr th:only-of-type {\n",
              "        vertical-align: middle;\n",
              "    }\n",
              "\n",
              "    .dataframe tbody tr th {\n",
              "        vertical-align: top;\n",
              "    }\n",
              "\n",
              "    .dataframe thead th {\n",
              "        text-align: right;\n",
              "    }\n",
              "</style>\n",
              "<table border=\"1\" class=\"dataframe\">\n",
              "  <thead>\n",
              "    <tr style=\"text-align: right;\">\n",
              "      <th></th>\n",
              "      <th>no</th>\n",
              "      <th>timestamp</th>\n",
              "      <th>pid</th>\n",
              "      <th>pname</th>\n",
              "      <th>bno</th>\n",
              "      <th>bsize</th>\n",
              "      <th>op</th>\n",
              "      <th>dvmajor</th>\n",
              "      <th>dvminor</th>\n",
              "      <th>blockhash</th>\n",
              "    </tr>\n",
              "  </thead>\n",
              "  <tbody>\n",
              "    <tr>\n",
              "      <th>0</th>\n",
              "      <td>0</td>\n",
              "      <td>89966811921625</td>\n",
              "      <td>4257</td>\n",
              "      <td>nfsd</td>\n",
              "      <td>488846200</td>\n",
              "      <td>8</td>\n",
              "      <td>W</td>\n",
              "      <td>6</td>\n",
              "      <td>0</td>\n",
              "      <td>2c4787c7671c2f638777c4ab72859ce1</td>\n",
              "    </tr>\n",
              "    <tr>\n",
              "      <th>1</th>\n",
              "      <td>1</td>\n",
              "      <td>89967003980393</td>\n",
              "      <td>4253</td>\n",
              "      <td>nfsd</td>\n",
              "      <td>508455704</td>\n",
              "      <td>8</td>\n",
              "      <td>W</td>\n",
              "      <td>6</td>\n",
              "      <td>0</td>\n",
              "      <td>88b93b628d84082186026d9da044f173</td>\n",
              "    </tr>\n",
              "    <tr>\n",
              "      <th>2</th>\n",
              "      <td>2</td>\n",
              "      <td>89967004049935</td>\n",
              "      <td>4253</td>\n",
              "      <td>nfsd</td>\n",
              "      <td>508455712</td>\n",
              "      <td>8</td>\n",
              "      <td>W</td>\n",
              "      <td>6</td>\n",
              "      <td>0</td>\n",
              "      <td>b5e9f4e5ab62a4fff5313a606b0ad4e3</td>\n",
              "    </tr>\n",
              "    <tr>\n",
              "      <th>3</th>\n",
              "      <td>3</td>\n",
              "      <td>89967004093615</td>\n",
              "      <td>4253</td>\n",
              "      <td>nfsd</td>\n",
              "      <td>508455720</td>\n",
              "      <td>8</td>\n",
              "      <td>W</td>\n",
              "      <td>6</td>\n",
              "      <td>0</td>\n",
              "      <td>7af5556ad4d45263bcd8358867333dd4</td>\n",
              "    </tr>\n",
              "    <tr>\n",
              "      <th>4</th>\n",
              "      <td>4</td>\n",
              "      <td>89967324150054</td>\n",
              "      <td>4254</td>\n",
              "      <td>nfsd</td>\n",
              "      <td>508500288</td>\n",
              "      <td>8</td>\n",
              "      <td>W</td>\n",
              "      <td>6</td>\n",
              "      <td>0</td>\n",
              "      <td>88b93b628d84082186026d9da044f173</td>\n",
              "    </tr>\n",
              "  </tbody>\n",
              "</table>\n",
              "</div>"
            ],
            "text/plain": [
              "   no       timestamp   pid pname        bno  bsize op  dvmajor  dvminor  \\\n",
              "0   0  89966811921625  4257  nfsd  488846200      8  W        6        0   \n",
              "1   1  89967003980393  4253  nfsd  508455704      8  W        6        0   \n",
              "2   2  89967004049935  4253  nfsd  508455712      8  W        6        0   \n",
              "3   3  89967004093615  4253  nfsd  508455720      8  W        6        0   \n",
              "4   4  89967324150054  4254  nfsd  508500288      8  W        6        0   \n",
              "\n",
              "                          blockhash  \n",
              "0  2c4787c7671c2f638777c4ab72859ce1  \n",
              "1  88b93b628d84082186026d9da044f173  \n",
              "2  b5e9f4e5ab62a4fff5313a606b0ad4e3  \n",
              "3  7af5556ad4d45263bcd8358867333dd4  \n",
              "4  88b93b628d84082186026d9da044f173  "
            ]
          },
          "metadata": {
            "tags": []
          },
          "execution_count": 58
        }
      ]
    },
    {
      "metadata": {
        "id": "-gpBXB-fly_A",
        "colab_type": "code",
        "colab": {
          "base_uri": "https://localhost:8080/",
          "height": 34
        },
        "outputId": "0b9079da-f5e3-4d71-b17d-743b41843793"
      },
      "cell_type": "code",
      "source": [
        "df.at[0,'timestamp']"
      ],
      "execution_count": 39,
      "outputs": [
        {
          "output_type": "execute_result",
          "data": {
            "text/plain": [
              "89966811921625"
            ]
          },
          "metadata": {
            "tags": []
          },
          "execution_count": 39
        }
      ]
    },
    {
      "metadata": {
        "id": "TBdjORumqzVQ",
        "colab_type": "code",
        "colab": {}
      },
      "cell_type": "code",
      "source": [
        "blocktrace = df['bno'].tolist()\n",
        "seq = df['no'].tolist()\n",
        "#convert element to int from str\n",
        "sequences = np.array([int(x) for x in seq])\n",
        "blocktrace = np.array([int(x) for x in blocktrace])"
      ],
      "execution_count": 0,
      "outputs": []
    },
    {
      "metadata": {
        "id": "kxDgJdjTwwQH",
        "colab_type": "code",
        "colab": {}
      },
      "cell_type": "code",
      "source": [
        "''' \n",
        "  Input: Cache sequence [1, 2, 3]. get cache blocks by df['bno'][cache sequence #]\n",
        "  get timestamp\n",
        "  df['timestamp'][1], df['timestamp'][2], df['timestamp'][3]\n",
        "  find avg. (avgTS)\n",
        "  get relative => (avgTS - df['timestamp'][A])\n",
        "  Output: [relativeA, relativeB, relativeC]\n",
        "'''\n",
        "\n",
        "def getRelativeTS(Cache_indices):\n",
        "  tfsm=np.zeros((len(Cache_indices)))\n",
        "  for i in Cache_indices:\n",
        "    tfsm [Cache_indices.index(i)] = df.timestamp[i]\n",
        "  \n",
        "  avgTS = np.mean(tfsm)\n",
        "  relTS = avgTS-tfsm\n",
        "  \n",
        "  return list(relTS)    \n",
        "  #df.at[]"
      ],
      "execution_count": 0,
      "outputs": []
    },
    {
      "metadata": {
        "id": "CJti2lQoxI2s",
        "colab_type": "code",
        "colab": {
          "base_uri": "https://localhost:8080/",
          "height": 34
        },
        "outputId": "ff62d4b5-b498-49cc-d101-53fd7447a9ea"
      },
      "cell_type": "code",
      "source": [
        "l=[0,1]\n",
        "df.at[1,1]\n",
        "#t=np.zeros((4,1))\n",
        "t=np.array([1,2,3])\n",
        "b=4\n",
        "t=list(np.append(t,b))\n",
        "t\n",
        "np.mean([1,2,3])"
      ],
      "execution_count": 25,
      "outputs": [
        {
          "output_type": "execute_result",
          "data": {
            "text/plain": [
              "2.0"
            ]
          },
          "metadata": {
            "tags": []
          },
          "execution_count": 25
        }
      ]
    },
    {
      "metadata": {
        "id": "KhRll4MwxDMf",
        "colab_type": "code",
        "colab": {}
      },
      "cell_type": "code",
      "source": [
        "  \n",
        "''' \n",
        "  Input: Input: Cache sequence [1, 2, 3]. get cache blocks [A,B,C] by df['bno'][cache sequence #]\n",
        "  gdaAbno\n",
        "  df['bno'][1], df['bno'][2], df['bno'][3]\n",
        "''''\n",
        "def getRelativePos():"
      ],
      "execution_count": 0,
      "outputs": []
    },
    {
      "metadata": {
        "id": "7vuiolXiqqwP",
        "colab_type": "code",
        "colab": {}
      },
      "cell_type": "code",
      "source": [
        "\n",
        "\n",
        "  \n",
        "\n",
        "'''\n",
        "get the furthest accessed block. Scans OPT dictionary and selects the maximum positioned element\n",
        "'''\n",
        "\n",
        "def getFurthestAccessBlock(C, OPT):\n",
        "    maxAccessPosition = -1\n",
        "    maxAccessBlock = -1\n",
        "    for cached_block in C:\n",
        "        if len(OPT[cached_block]) is 0:\n",
        "            #print ( \"Not Acccessing block anymore \" + str(cached_block))\n",
        "            return cached_block            \n",
        "    for cached_block in C:  \n",
        "        if OPT[cached_block][0] > maxAccessPosition:\n",
        "            maxAccessPosition = OPT[cached_block][0]\n",
        "            maxAccessBlock = cached_block\n",
        "    #print ( \"chose to evict \" + str(maxAccessBlock) + \" since its position of access is \" + str(maxAccessPosition))\n",
        "    return maxAccessBlock\n",
        "\n",
        "def belady_opt(blocktrace,sequences,frame):\n",
        "    OPT = defaultdict(partial(np.ndarray,0))\n",
        "\n",
        "    for i, block in enumerate(tqdm(blocktrace, desc=\"OPT: building index\")):\n",
        "        OPT[block] = np.append(OPT[block], i)    \n",
        "\n",
        "    #print (\"created OPT dictionary\")    \n",
        "\n",
        "    hit, miss = 0, 0\n",
        "\n",
        "    C = deque()\n",
        "    C2 = deque()\n",
        "    d = defaultdict(deque)\n",
        "    d_ftime = set()\n",
        "    d_timestamp = {}\n",
        "    d_label = {}\n",
        "    \n",
        "    for k,block in enumerate(tqdm(blocktrace, desc=\"OPT\", leave=False)):\n",
        "\n",
        "        if block in C:\n",
        "            #OPT[block] = OPT[block][1:]\n",
        "            OPT[block] = np.delete(OPT[block],0)\n",
        "            hit+=1\n",
        "            #print('hit' + str(block))\n",
        "            #print(OPT)\n",
        "        else:\n",
        "            #print('miss' + str(block))\n",
        "            miss+=1\n",
        "            if len(C) == frame:\n",
        "                fblock = getFurthestAccessBlock(C, OPT)\n",
        "                assert(fblock != -1)\n",
        "                d[fblock] = deque(zip(C,C2)) \n",
        "                d_timestamp[fblock] = getRelativeTS(list(C2)) #Returning Time Stemp\n",
        "                d_label[fblock] = C.index(fblock)\n",
        "                C2.remove(C2[C.index(fblock)])\n",
        "                C.remove(fblock)\n",
        "                #C2.remove()\n",
        "                d_ftime.add(sequences[k])\n",
        "            C.append(block)\n",
        "            C2.append(k)\n",
        "            d_ftime.add(sequences[k])\n",
        "            #OPT[block] = OPT[block][1:]\n",
        "            #print(OPT)\n",
        "            OPT[block] = np.delete(OPT[block],[0])\n",
        "\n",
        "    #print (\"hit count\" + str(hit_count))\n",
        "    #print (\"miss count\" + str(miss_count))\n",
        "    hitrate = hit / (hit + miss)\n",
        "    print(hitrate)\n",
        "    return d,d_timestamp,d_label"
      ],
      "execution_count": 0,
      "outputs": []
    },
    {
      "metadata": {
        "id": "-hY8q2B6r2Zb",
        "colab_type": "code",
        "colab": {
          "base_uri": "https://localhost:8080/",
          "height": 50
        },
        "outputId": "3ebc87e3-b5e8-4689-ac7d-0c76f7ba8e0d"
      },
      "cell_type": "code",
      "source": [
        "d,d_timestamp,d_label = belady_opt(blocktrace,sequences, 10)"
      ],
      "execution_count": 104,
      "outputs": [
        {
          "output_type": "stream",
          "text": [
            "OPT: building index: 100%|██████████| 10000/10000 [00:00<00:00, 136479.13it/s]\n",
            "                                                           "
          ],
          "name": "stderr"
        },
        {
          "output_type": "stream",
          "text": [
            "0.0763\n"
          ],
          "name": "stdout"
        },
        {
          "output_type": "stream",
          "text": [
            "\r"
          ],
          "name": "stderr"
        }
      ]
    },
    {
      "metadata": {
        "id": "hRRV_MRjnySt",
        "colab_type": "code",
        "colab": {
          "base_uri": "https://localhost:8080/",
          "height": 185
        },
        "outputId": "b94a9426-939b-4282-e747-87e3721ff4cb"
      },
      "cell_type": "code",
      "source": [
        "d[14254312]"
      ],
      "execution_count": 90,
      "outputs": [
        {
          "output_type": "execute_result",
          "data": {
            "text/plain": [
              "deque([(485954192, 7317),\n",
              "       (486242128, 7323),\n",
              "       (486242136, 7324),\n",
              "       (485954216, 7329),\n",
              "       (485954224, 7330),\n",
              "       (485954232, 7331),\n",
              "       (485954200, 7359),\n",
              "       (485954208, 7360),\n",
              "       (14254312, 7364),\n",
              "       (283460608, 7638)])"
            ]
          },
          "metadata": {
            "tags": []
          },
          "execution_count": 90
        }
      ]
    },
    {
      "metadata": {
        "id": "wyJuyag2tUv8",
        "colab_type": "code",
        "colab": {
          "base_uri": "https://localhost:8080/",
          "height": 34
        },
        "outputId": "a333b356-eaa6-461c-af36-ff964e0b610d"
      },
      "cell_type": "code",
      "source": [
        "d_label[14254312]"
      ],
      "execution_count": 105,
      "outputs": [
        {
          "output_type": "execute_result",
          "data": {
            "text/plain": [
              "8"
            ]
          },
          "metadata": {
            "tags": []
          },
          "execution_count": 105
        }
      ]
    },
    {
      "metadata": {
        "id": "I4Yl0SBrztJL",
        "colab_type": "code",
        "colab": {
          "base_uri": "https://localhost:8080/",
          "height": 34
        },
        "outputId": "c820c946-bbda-46ab-d763-6a3df2d0d469"
      },
      "cell_type": "code",
      "source": [
        " len(d_timestamp)"
      ],
      "execution_count": 106,
      "outputs": [
        {
          "output_type": "execute_result",
          "data": {
            "text/plain": [
              "9197"
            ]
          },
          "metadata": {
            "tags": []
          },
          "execution_count": 106
        }
      ]
    },
    {
      "metadata": {
        "id": "WCjr76OZBSQv",
        "colab_type": "code",
        "colab": {
          "base_uri": "https://localhost:8080/",
          "height": 34
        },
        "outputId": "0e6faede-e636-414f-abcf-78c9641b8adf"
      },
      "cell_type": "code",
      "source": [
        "#Time Stamp only (Training data)\n",
        "data = []\n",
        "for i,j in d_timestamp.items():\n",
        "  dat = list(map(str, j))\n",
        "  data.append(' '.join(dat))\n",
        "  #label.append(i)\n",
        "len(data)"
      ],
      "execution_count": 125,
      "outputs": [
        {
          "output_type": "execute_result",
          "data": {
            "text/plain": [
              "9197"
            ]
          },
          "metadata": {
            "tags": []
          },
          "execution_count": 125
        }
      ]
    },
    {
      "metadata": {
        "id": "mskfFv6BvLch",
        "colab_type": "code",
        "colab": {
          "base_uri": "https://localhost:8080/",
          "height": 34
        },
        "outputId": "b11d94e6-074e-43ac-f813-b94e5618aba4"
      },
      "cell_type": "code",
      "source": [
        "#Time Stamp only (Label data)\n",
        "label = []\n",
        "for i,j in d_label.items():\n",
        "  label.append(j)\n",
        "len(label)"
      ],
      "execution_count": 130,
      "outputs": [
        {
          "output_type": "execute_result",
          "data": {
            "text/plain": [
              "9197"
            ]
          },
          "metadata": {
            "tags": []
          },
          "execution_count": 130
        }
      ]
    },
    {
      "metadata": {
        "id": "caQMlNN_voo3",
        "colab_type": "code",
        "colab": {
          "base_uri": "https://localhost:8080/",
          "height": 50
        },
        "outputId": "8de77ffa-fc68-43fd-8be5-46c5a4e111ef"
      },
      "cell_type": "code",
      "source": [
        "#CountVEctorizer for fitting the data\n",
        "vec = CountVectorizer(binary=True)\n",
        "vec_ = vec.fit(data)\n",
        "DATA = vec_.transform(data)\n",
        "DATA"
      ],
      "execution_count": 131,
      "outputs": [
        {
          "output_type": "execute_result",
          "data": {
            "text/plain": [
              "<9197x91311 sparse matrix of type '<class 'numpy.int64'>'\n",
              "\twith 106588 stored elements in Compressed Sparse Row format>"
            ]
          },
          "metadata": {
            "tags": []
          },
          "execution_count": 131
        }
      ]
    },
    {
      "metadata": {
        "id": "DCned4HMv3gI",
        "colab_type": "code",
        "colab": {}
      },
      "cell_type": "code",
      "source": [
        "#Train-Test split\n",
        "X_train, X_test, Y_train, Y_test = train_test_split(DATA, label ,test_size=0.5, shuffle=True)"
      ],
      "execution_count": 0,
      "outputs": []
    },
    {
      "metadata": {
        "id": "7aH1uNiJs7ou",
        "colab_type": "code",
        "colab": {}
      },
      "cell_type": "code",
      "source": [
        "#Fitting Logistic Regression Model\n",
        "clf = LogisticRegression().fit(X_train, Y_train)"
      ],
      "execution_count": 0,
      "outputs": []
    },
    {
      "metadata": {
        "id": "DrcY8mRAvgqN",
        "colab_type": "code",
        "colab": {
          "base_uri": "https://localhost:8080/",
          "height": 34
        },
        "outputId": "955c405a-2981-409e-b0fe-091c94f134cb"
      },
      "cell_type": "code",
      "source": [
        "#Accuracy Testing\n",
        "accuracy_score(Y_test, clf.predict(X_test))"
      ],
      "execution_count": 139,
      "outputs": [
        {
          "output_type": "execute_result",
          "data": {
            "text/plain": [
              "0.8269188954120461"
            ]
          },
          "metadata": {
            "tags": []
          },
          "execution_count": 139
        }
      ]
    },
    {
      "metadata": {
        "id": "Hiw3JqTawJsY",
        "colab_type": "code",
        "colab": {}
      },
      "cell_type": "code",
      "source": [
        ""
      ],
      "execution_count": 0,
      "outputs": []
    },
    {
      "metadata": {
        "id": "UWNo6rRExscu",
        "colab_type": "code",
        "colab": {}
      },
      "cell_type": "code",
      "source": [
        ""
      ],
      "execution_count": 0,
      "outputs": []
    }
  ]
}