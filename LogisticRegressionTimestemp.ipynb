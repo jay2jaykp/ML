{
 "cells": [
  {
   "cell_type": "markdown",
   "metadata": {
    "colab_type": "text",
    "id": "view-in-github"
   },
   "source": [
    "<a href=\"https://colab.research.google.com/github/jay2jaykp/ML/blob/master/LogisticRegressionTimestemp.ipynb\" target=\"_parent\"><img src=\"https://colab.research.google.com/assets/colab-badge.svg\" alt=\"Open In Colab\"/></a>"
   ]
  },
  {
   "cell_type": "code",
   "execution_count": 26,
   "metadata": {
    "colab": {},
    "colab_type": "code",
    "id": "D7enJdI8kj-1"
   },
   "outputs": [],
   "source": [
    "import numpy as np\n",
    "import pandas as pd\n",
    "from collections import defaultdict, deque\n",
    "from functools import partial\n",
    "from tqdm import tqdm\n",
    "#from tqdm import tqdm_notebook as tqdm\n",
    "from sklearn.model_selection import train_test_split\n",
    "from sklearn.linear_model import LogisticRegression\n",
    "from sklearn.metrics import accuracy_score\n",
    "from sklearn.feature_extraction.text import CountVectorizer\n",
    "\n",
    "\n",
    "# import numpy as np\n",
    "# from collections import defaultdict\n",
    "# from functools import partial\n",
    "# import matplotlib.pyplot as plt\n",
    "# from matplotlib.pyplot import figure \n",
    "# import time\n",
    "# import argparse\n",
    "# \n",
    "# \n",
    "# #from sklearn.preprocessing import OneHotEncoder\n",
    "# from sklearn.preprocessing import MultiLabelBinarizer\n",
    "# "
   ]
  },
  {
   "cell_type": "code",
   "execution_count": 4,
   "metadata": {
    "colab": {
     "base_uri": "https://localhost:8080/",
     "height": 195
    },
    "colab_type": "code",
    "id": "tG33LZ34qrGM",
    "outputId": "ca879ba2-6384-427c-f924-559a98f80899"
   },
   "outputs": [
    {
     "data": {
      "text/html": [
       "<div>\n",
       "<style scoped>\n",
       "    .dataframe tbody tr th:only-of-type {\n",
       "        vertical-align: middle;\n",
       "    }\n",
       "\n",
       "    .dataframe tbody tr th {\n",
       "        vertical-align: top;\n",
       "    }\n",
       "\n",
       "    .dataframe thead th {\n",
       "        text-align: right;\n",
       "    }\n",
       "</style>\n",
       "<table border=\"1\" class=\"dataframe\">\n",
       "  <thead>\n",
       "    <tr style=\"text-align: right;\">\n",
       "      <th></th>\n",
       "      <th>no</th>\n",
       "      <th>timestamp</th>\n",
       "      <th>pid</th>\n",
       "      <th>pname</th>\n",
       "      <th>bno</th>\n",
       "      <th>bsize</th>\n",
       "      <th>op</th>\n",
       "      <th>dvmajor</th>\n",
       "      <th>dvminor</th>\n",
       "      <th>blockhash</th>\n",
       "    </tr>\n",
       "  </thead>\n",
       "  <tbody>\n",
       "    <tr>\n",
       "      <th>0</th>\n",
       "      <td>0</td>\n",
       "      <td>89966811921625</td>\n",
       "      <td>4257</td>\n",
       "      <td>nfsd</td>\n",
       "      <td>488846200</td>\n",
       "      <td>8</td>\n",
       "      <td>W</td>\n",
       "      <td>6</td>\n",
       "      <td>0</td>\n",
       "      <td>2c4787c7671c2f638777c4ab72859ce1</td>\n",
       "    </tr>\n",
       "    <tr>\n",
       "      <th>1</th>\n",
       "      <td>1</td>\n",
       "      <td>89967003980393</td>\n",
       "      <td>4253</td>\n",
       "      <td>nfsd</td>\n",
       "      <td>508455704</td>\n",
       "      <td>8</td>\n",
       "      <td>W</td>\n",
       "      <td>6</td>\n",
       "      <td>0</td>\n",
       "      <td>88b93b628d84082186026d9da044f173</td>\n",
       "    </tr>\n",
       "    <tr>\n",
       "      <th>2</th>\n",
       "      <td>2</td>\n",
       "      <td>89967004049935</td>\n",
       "      <td>4253</td>\n",
       "      <td>nfsd</td>\n",
       "      <td>508455712</td>\n",
       "      <td>8</td>\n",
       "      <td>W</td>\n",
       "      <td>6</td>\n",
       "      <td>0</td>\n",
       "      <td>b5e9f4e5ab62a4fff5313a606b0ad4e3</td>\n",
       "    </tr>\n",
       "    <tr>\n",
       "      <th>3</th>\n",
       "      <td>3</td>\n",
       "      <td>89967004093615</td>\n",
       "      <td>4253</td>\n",
       "      <td>nfsd</td>\n",
       "      <td>508455720</td>\n",
       "      <td>8</td>\n",
       "      <td>W</td>\n",
       "      <td>6</td>\n",
       "      <td>0</td>\n",
       "      <td>7af5556ad4d45263bcd8358867333dd4</td>\n",
       "    </tr>\n",
       "    <tr>\n",
       "      <th>4</th>\n",
       "      <td>4</td>\n",
       "      <td>89967324150054</td>\n",
       "      <td>4254</td>\n",
       "      <td>nfsd</td>\n",
       "      <td>508500288</td>\n",
       "      <td>8</td>\n",
       "      <td>W</td>\n",
       "      <td>6</td>\n",
       "      <td>0</td>\n",
       "      <td>88b93b628d84082186026d9da044f173</td>\n",
       "    </tr>\n",
       "  </tbody>\n",
       "</table>\n",
       "</div>"
      ],
      "text/plain": [
       "   no       timestamp   pid pname        bno  bsize op  dvmajor  dvminor  \\\n",
       "0   0  89966811921625  4257  nfsd  488846200      8  W        6        0   \n",
       "1   1  89967003980393  4253  nfsd  508455704      8  W        6        0   \n",
       "2   2  89967004049935  4253  nfsd  508455712      8  W        6        0   \n",
       "3   3  89967004093615  4253  nfsd  508455720      8  W        6        0   \n",
       "4   4  89967324150054  4254  nfsd  508500288      8  W        6        0   \n",
       "\n",
       "                          blockhash  \n",
       "0  2c4787c7671c2f638777c4ab72859ce1  \n",
       "1  88b93b628d84082186026d9da044f173  \n",
       "2  b5e9f4e5ab62a4fff5313a606b0ad4e3  \n",
       "3  7af5556ad4d45263bcd8358867333dd4  \n",
       "4  88b93b628d84082186026d9da044f173  "
      ]
     },
     "execution_count": 4,
     "metadata": {},
     "output_type": "execute_result"
    }
   ],
   "source": [
    "df = pd.read_csv('smalltrace.csv', sep='\\t')\n",
    "df.columns = ['no','timestamp','pid','pname','bno', 'bsize', 'op', 'dvmajor', 'dvminor', 'blockhash']\n",
    "df.head()"
   ]
  },
  {
   "cell_type": "code",
   "execution_count": 7,
   "metadata": {},
   "outputs": [
    {
     "data": {
      "text/plain": [
       "100000"
      ]
     },
     "execution_count": 7,
     "metadata": {},
     "output_type": "execute_result"
    }
   ],
   "source": [
    "l = list(range(10))\n",
    "df.size"
   ]
  },
  {
   "cell_type": "code",
   "execution_count": 32,
   "metadata": {},
   "outputs": [
    {
     "data": {
      "text/plain": [
       "9207"
      ]
     },
     "execution_count": 32,
     "metadata": {},
     "output_type": "execute_result"
    }
   ],
   "source": [
    "len(set(blocktrace))"
   ]
  },
  {
   "cell_type": "code",
   "execution_count": 8,
   "metadata": {
    "colab": {},
    "colab_type": "code",
    "id": "TBdjORumqzVQ"
   },
   "outputs": [],
   "source": [
    "blocktrace = df['bno'].tolist()\n",
    "sequences = list(range(df.size))\n",
    "#convert element to int from str\n",
    "blocktrace = np.array([int(x) for x in blocktrace])"
   ]
  },
  {
   "cell_type": "code",
   "execution_count": 9,
   "metadata": {
    "colab": {},
    "colab_type": "code",
    "id": "kxDgJdjTwwQH"
   },
   "outputs": [],
   "source": [
    "''' \n",
    "  Input: Cache sequence [1, 2, 3]. get cache blocks by df['bno'][cache sequence #]\n",
    "  get timestamp\n",
    "  df['timestamp'][1], df['timestamp'][2], df['timestamp'][3]\n",
    "  find avg. (avgTS)\n",
    "  get relative => (avgTS - df['timestamp'][A])\n",
    "  Output: [relativeA, relativeB, relativeC]\n",
    "'''\n",
    "\n",
    "def getRelativeTS(Cache_indices):\n",
    "    tfsm=np.zeros((len(Cache_indices)))\n",
    "    for i in Cache_indices:\n",
    "        tfsm[Cache_indices.index(i)] = df.timestamp[i]\n",
    "\n",
    "    avgTS = np.mean(tfsm)\n",
    "    relTS = avgTS-tfsm\n",
    "\n",
    "    return list(relTS)    \n",
    "    #df.at[]"
   ]
  },
  {
   "cell_type": "code",
   "execution_count": 10,
   "metadata": {
    "colab": {
     "base_uri": "https://localhost:8080/",
     "height": 34
    },
    "colab_type": "code",
    "collapsed": true,
    "id": "CJti2lQoxI2s",
    "outputId": "ff62d4b5-b498-49cc-d101-53fd7447a9ea"
   },
   "outputs": [
    {
     "ename": "ValueError",
     "evalue": "At based indexing on an non-integer index can only have non-integer indexers",
     "output_type": "error",
     "traceback": [
      "\u001b[1;31m---------------------------------------------------------------------------\u001b[0m",
      "\u001b[1;31mValueError\u001b[0m                                Traceback (most recent call last)",
      "\u001b[1;32m<ipython-input-10-b1cb1fd020eb>\u001b[0m in \u001b[0;36m<module>\u001b[1;34m()\u001b[0m\n\u001b[0;32m      1\u001b[0m \u001b[0ml\u001b[0m\u001b[1;33m=\u001b[0m\u001b[1;33m[\u001b[0m\u001b[1;36m0\u001b[0m\u001b[1;33m,\u001b[0m\u001b[1;36m1\u001b[0m\u001b[1;33m]\u001b[0m\u001b[1;33m\u001b[0m\u001b[0m\n\u001b[1;32m----> 2\u001b[1;33m \u001b[0mdf\u001b[0m\u001b[1;33m.\u001b[0m\u001b[0mat\u001b[0m\u001b[1;33m[\u001b[0m\u001b[1;36m1\u001b[0m\u001b[1;33m,\u001b[0m\u001b[1;36m1\u001b[0m\u001b[1;33m]\u001b[0m\u001b[1;33m\u001b[0m\u001b[0m\n\u001b[0m\u001b[0;32m      3\u001b[0m \u001b[1;31m#t=np.zeros((4,1))\u001b[0m\u001b[1;33m\u001b[0m\u001b[1;33m\u001b[0m\u001b[0m\n\u001b[0;32m      4\u001b[0m \u001b[0mt\u001b[0m\u001b[1;33m=\u001b[0m\u001b[0mnp\u001b[0m\u001b[1;33m.\u001b[0m\u001b[0marray\u001b[0m\u001b[1;33m(\u001b[0m\u001b[1;33m[\u001b[0m\u001b[1;36m1\u001b[0m\u001b[1;33m,\u001b[0m\u001b[1;36m2\u001b[0m\u001b[1;33m,\u001b[0m\u001b[1;36m3\u001b[0m\u001b[1;33m]\u001b[0m\u001b[1;33m)\u001b[0m\u001b[1;33m\u001b[0m\u001b[0m\n\u001b[0;32m      5\u001b[0m \u001b[0mb\u001b[0m\u001b[1;33m=\u001b[0m\u001b[1;36m4\u001b[0m\u001b[1;33m\u001b[0m\u001b[0m\n",
      "\u001b[1;32mC:\\ProgramData\\Anaconda3\\lib\\site-packages\\pandas\\core\\indexing.py\u001b[0m in \u001b[0;36m__getitem__\u001b[1;34m(self, key)\u001b[0m\n\u001b[0;32m   2139\u001b[0m                 \u001b[1;32mraise\u001b[0m \u001b[0mValueError\u001b[0m\u001b[1;33m(\u001b[0m\u001b[1;34m'Invalid call for scalar access (getting)!'\u001b[0m\u001b[1;33m)\u001b[0m\u001b[1;33m\u001b[0m\u001b[0m\n\u001b[0;32m   2140\u001b[0m \u001b[1;33m\u001b[0m\u001b[0m\n\u001b[1;32m-> 2141\u001b[1;33m         \u001b[0mkey\u001b[0m \u001b[1;33m=\u001b[0m \u001b[0mself\u001b[0m\u001b[1;33m.\u001b[0m\u001b[0m_convert_key\u001b[0m\u001b[1;33m(\u001b[0m\u001b[0mkey\u001b[0m\u001b[1;33m)\u001b[0m\u001b[1;33m\u001b[0m\u001b[0m\n\u001b[0m\u001b[0;32m   2142\u001b[0m         \u001b[1;32mreturn\u001b[0m \u001b[0mself\u001b[0m\u001b[1;33m.\u001b[0m\u001b[0mobj\u001b[0m\u001b[1;33m.\u001b[0m\u001b[0m_get_value\u001b[0m\u001b[1;33m(\u001b[0m\u001b[1;33m*\u001b[0m\u001b[0mkey\u001b[0m\u001b[1;33m,\u001b[0m \u001b[0mtakeable\u001b[0m\u001b[1;33m=\u001b[0m\u001b[0mself\u001b[0m\u001b[1;33m.\u001b[0m\u001b[0m_takeable\u001b[0m\u001b[1;33m)\u001b[0m\u001b[1;33m\u001b[0m\u001b[0m\n\u001b[0;32m   2143\u001b[0m \u001b[1;33m\u001b[0m\u001b[0m\n",
      "\u001b[1;32mC:\\ProgramData\\Anaconda3\\lib\\site-packages\\pandas\\core\\indexing.py\u001b[0m in \u001b[0;36m_convert_key\u001b[1;34m(self, key, is_setter)\u001b[0m\n\u001b[0;32m   2225\u001b[0m             \u001b[1;32melse\u001b[0m\u001b[1;33m:\u001b[0m\u001b[1;33m\u001b[0m\u001b[0m\n\u001b[0;32m   2226\u001b[0m                 \u001b[1;32mif\u001b[0m \u001b[0mis_integer\u001b[0m\u001b[1;33m(\u001b[0m\u001b[0mi\u001b[0m\u001b[1;33m)\u001b[0m\u001b[1;33m:\u001b[0m\u001b[1;33m\u001b[0m\u001b[0m\n\u001b[1;32m-> 2227\u001b[1;33m                     raise ValueError(\"At based indexing on an non-integer \"\n\u001b[0m\u001b[0;32m   2228\u001b[0m                                      \u001b[1;34m\"index can only have non-integer \"\u001b[0m\u001b[1;33m\u001b[0m\u001b[0m\n\u001b[0;32m   2229\u001b[0m                                      \"indexers\")\n",
      "\u001b[1;31mValueError\u001b[0m: At based indexing on an non-integer index can only have non-integer indexers"
     ]
    }
   ],
   "source": [
    "l=[0,1]\n",
    "df.at[1,1]\n",
    "#t=np.zeros((4,1))\n",
    "t=np.array([1,2,3])\n",
    "b=4\n",
    "t=list(np.append(t,b))\n",
    "t\n",
    "np.mean([1,2,3])"
   ]
  },
  {
   "cell_type": "code",
   "execution_count": 0,
   "metadata": {
    "colab": {},
    "colab_type": "code",
    "id": "KhRll4MwxDMf"
   },
   "outputs": [],
   "source": [
    "  \n",
    "''' \n",
    "  Input: Input: Cache sequence [1, 2, 3]. get cache blocks [A,B,C] by df['bno'][cache sequence #]\n",
    "  gdaAbno\n",
    "  df['bno'][1], df['bno'][2], df['bno'][3]\n",
    "''''\n",
    "def getRelativePos():"
   ]
  },
  {
   "cell_type": "code",
   "execution_count": 11,
   "metadata": {
    "colab": {},
    "colab_type": "code",
    "id": "7vuiolXiqqwP"
   },
   "outputs": [],
   "source": [
    "\n",
    "\n",
    "  \n",
    "\n",
    "'''\n",
    "get the furthest accessed block. Scans OPT dictionary and selects the maximum positioned element\n",
    "'''\n",
    "\n",
    "def getFurthestAccessBlock(C, OPT):\n",
    "    maxAccessPosition = -1\n",
    "    maxAccessBlock = -1\n",
    "    for cached_block in C:\n",
    "        if len(OPT[cached_block]) is 0:\n",
    "            #print ( \"Not Acccessing block anymore \" + str(cached_block))\n",
    "            return cached_block            \n",
    "    for cached_block in C:  \n",
    "        if OPT[cached_block][0] > maxAccessPosition:\n",
    "            maxAccessPosition = OPT[cached_block][0]\n",
    "            maxAccessBlock = cached_block\n",
    "    #print ( \"chose to evict \" + str(maxAccessBlock) + \" since its position of access is \" + str(maxAccessPosition))\n",
    "    return maxAccessBlock\n",
    "\n",
    "def belady_opt(blocktrace,sequences,frame):\n",
    "    OPT = defaultdict(partial(np.ndarray,0))\n",
    "\n",
    "    for i, block in enumerate(tqdm(blocktrace, desc=\"OPT: building index\")):\n",
    "        OPT[block] = np.append(OPT[block], i)    \n",
    "\n",
    "    #print (\"created OPT dictionary\")    \n",
    "\n",
    "    hit, miss = 0, 0\n",
    "\n",
    "    C = deque()\n",
    "    C2 = deque()\n",
    "    d = defaultdict(deque)\n",
    "    d_ftime = set()\n",
    "    d_timestamp = {}\n",
    "    d_label = {}\n",
    "    \n",
    "    for k,block in enumerate(tqdm(blocktrace, desc=\"OPT\", leave=False)):\n",
    "\n",
    "        if block in C:\n",
    "            #OPT[block] = OPT[block][1:]\n",
    "            OPT[block] = np.delete(OPT[block],0)\n",
    "            hit+=1\n",
    "            #print('hit' + str(block))\n",
    "            #print(OPT)\n",
    "        else:\n",
    "            #print('miss' + str(block))\n",
    "            miss+=1\n",
    "            if len(C) == frame:\n",
    "                fblock = getFurthestAccessBlock(C, OPT)\n",
    "                assert(fblock != -1)\n",
    "                d[fblock] = deque(zip(C,C2)) \n",
    "                d_timestamp[fblock] = getRelativeTS(list(C2)) #Returning Time Stemp\n",
    "                d_label[fblock] = C.index(fblock)\n",
    "                C2.remove(C2[C.index(fblock)])\n",
    "                C.remove(fblock)\n",
    "                #C2.remove()\n",
    "                d_ftime.add(sequences[k])\n",
    "            C.append(block)\n",
    "            C2.append(k)\n",
    "            d_ftime.add(sequences[k])\n",
    "            #OPT[block] = OPT[block][1:]\n",
    "            #print(OPT)\n",
    "            OPT[block] = np.delete(OPT[block],[0])\n",
    "\n",
    "    #print (\"hit count\" + str(hit_count))\n",
    "    #print (\"miss count\" + str(miss_count))\n",
    "    hitrate = hit / (hit + miss)\n",
    "    print(hitrate)\n",
    "    return d,d_timestamp,d_label"
   ]
  },
  {
   "cell_type": "code",
   "execution_count": 47,
   "metadata": {
    "colab": {
     "base_uri": "https://localhost:8080/",
     "height": 50
    },
    "colab_type": "code",
    "id": "-hY8q2B6r2Zb",
    "outputId": "3ebc87e3-b5e8-4689-ac7d-0c76f7ba8e0d"
   },
   "outputs": [
    {
     "name": "stderr",
     "output_type": "stream",
     "text": [
      "OPT: building index: 100%|███████████████████████████████████████████████████| 10000/10000 [00:00<00:00, 216683.75it/s]\n",
      "                                                                                                                       \r"
     ]
    },
    {
     "name": "stdout",
     "output_type": "stream",
     "text": [
      "0.0793\n"
     ]
    }
   ],
   "source": [
    "d,d_timestamp,d_label = belady_opt(blocktrace,sequences, 500)"
   ]
  },
  {
   "cell_type": "code",
   "execution_count": 38,
   "metadata": {
    "colab": {
     "base_uri": "https://localhost:8080/",
     "height": 185
    },
    "colab_type": "code",
    "id": "hRRV_MRjnySt",
    "outputId": "b94a9426-939b-4282-e747-87e3721ff4cb"
   },
   "outputs": [
    {
     "data": {
      "text/plain": [
       "deque([(14254312, 7130),\n",
       "       (485954192, 7317),\n",
       "       (485954200, 7318),\n",
       "       (486242128, 7323),\n",
       "       (486242136, 7324),\n",
       "       (486242144, 7325),\n",
       "       (485954208, 7328),\n",
       "       (485954216, 7329),\n",
       "       (485954224, 7330),\n",
       "       (485954232, 7331),\n",
       "       (283459936, 7547),\n",
       "       (283459944, 7548),\n",
       "       (283459952, 7549),\n",
       "       (283459960, 7550),\n",
       "       (283459968, 7551),\n",
       "       (283459976, 7552),\n",
       "       (283459984, 7553),\n",
       "       (283459992, 7554),\n",
       "       (283460000, 7555),\n",
       "       (283460008, 7556),\n",
       "       (283460016, 7557),\n",
       "       (283460024, 7558),\n",
       "       (283460032, 7559),\n",
       "       (283460040, 7560),\n",
       "       (283460048, 7561),\n",
       "       (283460056, 7562),\n",
       "       (283460064, 7563),\n",
       "       (283460072, 7564),\n",
       "       (283460080, 7565),\n",
       "       (283460088, 7566),\n",
       "       (283460096, 7567),\n",
       "       (283460104, 7568),\n",
       "       (283460112, 7569),\n",
       "       (283460120, 7570),\n",
       "       (283460128, 7571),\n",
       "       (283460136, 7572),\n",
       "       (283460144, 7573),\n",
       "       (283460152, 7574),\n",
       "       (283460160, 7575),\n",
       "       (283460168, 7576),\n",
       "       (283460176, 7577),\n",
       "       (283460184, 7578),\n",
       "       (283460192, 7579),\n",
       "       (283460200, 7580),\n",
       "       (283460208, 7581),\n",
       "       (283460216, 7582),\n",
       "       (283460224, 7583),\n",
       "       (283460232, 7584),\n",
       "       (283460240, 7585),\n",
       "       (283460248, 7586),\n",
       "       (283460256, 7587),\n",
       "       (283460264, 7588),\n",
       "       (283460272, 7589),\n",
       "       (283460280, 7590),\n",
       "       (283460288, 7591),\n",
       "       (283460336, 7592),\n",
       "       (283460344, 7593),\n",
       "       (283460352, 7594),\n",
       "       (283460360, 7595),\n",
       "       (283460368, 7596),\n",
       "       (283460296, 7597),\n",
       "       (283460304, 7598),\n",
       "       (283460312, 7599),\n",
       "       (283460320, 7600),\n",
       "       (283460328, 7601),\n",
       "       (283460376, 7602),\n",
       "       (283460384, 7603),\n",
       "       (283460392, 7604),\n",
       "       (283460400, 7605),\n",
       "       (283460408, 7606),\n",
       "       (283460416, 7607),\n",
       "       (283460424, 7608),\n",
       "       (283460432, 7609),\n",
       "       (283460440, 7610),\n",
       "       (283460448, 7611),\n",
       "       (123568, 7613),\n",
       "       (18909496, 7615),\n",
       "       (283460456, 7616),\n",
       "       (283460464, 7617),\n",
       "       (283460472, 7618),\n",
       "       (283460480, 7619),\n",
       "       (283460488, 7620),\n",
       "       (283460496, 7621),\n",
       "       (283460504, 7622),\n",
       "       (283460512, 7623),\n",
       "       (283460520, 7624),\n",
       "       (283460528, 7625),\n",
       "       (123576, 7626),\n",
       "       (123584, 7627),\n",
       "       (123592, 7628),\n",
       "       (283460536, 7629),\n",
       "       (283460544, 7630),\n",
       "       (283460552, 7631),\n",
       "       (283460560, 7632),\n",
       "       (283460568, 7633),\n",
       "       (283460576, 7634),\n",
       "       (283460584, 7635),\n",
       "       (283460592, 7636),\n",
       "       (283460600, 7637),\n",
       "       (283460608, 7638)])"
      ]
     },
     "execution_count": 38,
     "metadata": {},
     "output_type": "execute_result"
    }
   ],
   "source": [
    "d[14254312]"
   ]
  },
  {
   "cell_type": "code",
   "execution_count": 39,
   "metadata": {
    "colab": {
     "base_uri": "https://localhost:8080/",
     "height": 34
    },
    "colab_type": "code",
    "id": "wyJuyag2tUv8",
    "outputId": "a333b356-eaa6-461c-af36-ff964e0b610d"
   },
   "outputs": [
    {
     "data": {
      "text/plain": [
       "9197"
      ]
     },
     "execution_count": 39,
     "metadata": {},
     "output_type": "execute_result"
    }
   ],
   "source": [
    "len(set(l))"
   ]
  },
  {
   "cell_type": "code",
   "execution_count": 48,
   "metadata": {
    "colab": {
     "base_uri": "https://localhost:8080/",
     "height": 34
    },
    "colab_type": "code",
    "id": "WCjr76OZBSQv",
    "outputId": "0e6faede-e636-414f-abcf-78c9641b8adf"
   },
   "outputs": [
    {
     "data": {
      "text/plain": [
       "8707"
      ]
     },
     "execution_count": 48,
     "metadata": {},
     "output_type": "execute_result"
    }
   ],
   "source": [
    "#Time Stamp only (Training data)\n",
    "data = []\n",
    "for i,j in d_timestamp.items():\n",
    "    dat = list(map(str, j))\n",
    "    data.append(' '.join(dat))\n",
    "    #label.append(i)\n",
    "len(data)"
   ]
  },
  {
   "cell_type": "code",
   "execution_count": 49,
   "metadata": {
    "colab": {
     "base_uri": "https://localhost:8080/",
     "height": 34
    },
    "colab_type": "code",
    "id": "mskfFv6BvLch",
    "outputId": "b11d94e6-074e-43ac-f813-b94e5618aba4"
   },
   "outputs": [
    {
     "data": {
      "text/plain": [
       "16"
      ]
     },
     "execution_count": 49,
     "metadata": {},
     "output_type": "execute_result"
    }
   ],
   "source": [
    "#Time Stamp only (Label data)\n",
    "label = []\n",
    "for i,j in d_label.items():\n",
    "    label.append(j)\n",
    "len(set(label))"
   ]
  },
  {
   "cell_type": "code",
   "execution_count": 50,
   "metadata": {
    "colab": {
     "base_uri": "https://localhost:8080/",
     "height": 50
    },
    "colab_type": "code",
    "id": "caQMlNN_voo3",
    "outputId": "8de77ffa-fc68-43fd-8be5-46c5a4e111ef"
   },
   "outputs": [
    {
     "data": {
      "text/plain": [
       "<8707x4288746 sparse matrix of type '<class 'numpy.int64'>'\n",
       "\twith 4338246 stored elements in Compressed Sparse Row format>"
      ]
     },
     "execution_count": 50,
     "metadata": {},
     "output_type": "execute_result"
    }
   ],
   "source": [
    "#CountVEctorizer for fitting the data\n",
    "vec = CountVectorizer(binary=True)\n",
    "vec_ = vec.fit(data)\n",
    "DATA = vec_.transform(data)\n",
    "DATA"
   ]
  },
  {
   "cell_type": "code",
   "execution_count": 51,
   "metadata": {
    "colab": {},
    "colab_type": "code",
    "id": "DCned4HMv3gI"
   },
   "outputs": [],
   "source": [
    "#Train-Test split\n",
    "X_train, X_test, Y_train, Y_test = train_test_split(DATA, label ,test_size=0.5, shuffle=True)"
   ]
  },
  {
   "cell_type": "code",
   "execution_count": 52,
   "metadata": {
    "colab": {},
    "colab_type": "code",
    "id": "7aH1uNiJs7ou"
   },
   "outputs": [],
   "source": [
    "#Fitting Logistic Regression Model\n",
    "clf = LogisticRegression().fit(X_train, Y_train)"
   ]
  },
  {
   "cell_type": "code",
   "execution_count": 53,
   "metadata": {
    "colab": {
     "base_uri": "https://localhost:8080/",
     "height": 34
    },
    "colab_type": "code",
    "id": "DrcY8mRAvgqN",
    "outputId": "955c405a-2981-409e-b0fe-091c94f134cb"
   },
   "outputs": [
    {
     "data": {
      "text/plain": [
       "0.288929719797887"
      ]
     },
     "execution_count": 53,
     "metadata": {},
     "output_type": "execute_result"
    }
   ],
   "source": [
    "#Accuracy Testing\n",
    "accuracy_score(Y_test, clf.predict(X_test))"
   ]
  },
  {
   "cell_type": "code",
   "execution_count": 54,
   "metadata": {
    "colab": {},
    "colab_type": "code",
    "id": "Hiw3JqTawJsY"
   },
   "outputs": [
    {
     "data": {
      "text/plain": [
       "array([[   0,    0,    0,    0,    0,    0,    0,    0,    0,    0,    0,\n",
       "           0,    0,    0,  344],\n",
       "       [   0,    0,    0,    0,    0,    0,    0,    0,    0,    0,    0,\n",
       "           0,    0,    0,    5],\n",
       "       [   0,    0,    0,    0,    0,    0,    0,    0,    0,    0,    0,\n",
       "           0,    0,    0,   92],\n",
       "       [   0,    0,    0,    0,    0,    0,    0,    0,    0,    0,    0,\n",
       "           0,    0,    0,    3],\n",
       "       [   0,    0,    0,    0,    0,    0,    0,    0,    0,    0,    0,\n",
       "           0,    0,    0,    5],\n",
       "       [   0,    0,    0,    0,    0,    0,    0,    0,    0,    0,    0,\n",
       "           0,    0,    0,  267],\n",
       "       [   0,    0,    0,    0,    0,    0,    0,    0,    0,    0,    0,\n",
       "           0,    0,    0,  436],\n",
       "       [   0,    0,    0,    0,    0,    0,    0,    0,    0,    0,    0,\n",
       "           0,    0,    0,  687],\n",
       "       [   0,    0,    0,    0,    0,    0,    0,    0,    0,    0,    0,\n",
       "           0,    0,    0,  326],\n",
       "       [   0,    0,    0,    0,    0,    0,    0,    0,    0,    0,    0,\n",
       "           0,    0,    0,  135],\n",
       "       [   0,    0,    0,    0,    0,    0,    0,    0,    0,    0,    0,\n",
       "           0,    0,    0,   27],\n",
       "       [   0,    0,    0,    0,    0,    0,    0,    0,    0,    0,    0,\n",
       "           0,    0,    0,  124],\n",
       "       [   0,    0,    0,    0,    0,    0,    0,    0,    0,    0,    0,\n",
       "           0,    0,    0,  149],\n",
       "       [   0,    0,    0,    0,    0,    0,    0,    0,    0,    0,    0,\n",
       "           0,    0,    0,  496],\n",
       "       [   0,    0,    0,    0,    0,    0,    0,    0,    0,    0,    0,\n",
       "           0,    0,    0, 1258]], dtype=int64)"
      ]
     },
     "execution_count": 54,
     "metadata": {},
     "output_type": "execute_result"
    }
   ],
   "source": [
    "from sklearn.metrics import confusion_matrix\n",
    "confusion_matrix(Y_test, clf.predict(X_test))"
   ]
  },
  {
   "cell_type": "code",
   "execution_count": 0,
   "metadata": {
    "colab": {},
    "colab_type": "code",
    "id": "UWNo6rRExscu"
   },
   "outputs": [],
   "source": []
  }
 ],
 "metadata": {
  "colab": {
   "include_colab_link": true,
   "name": "LogisticRegression.ipynb",
   "provenance": [],
   "version": "0.3.2"
  },
  "kernelspec": {
   "display_name": "Python 3",
   "language": "python",
   "name": "python3"
  },
  "language_info": {
   "codemirror_mode": {
    "name": "ipython",
    "version": 3
   },
   "file_extension": ".py",
   "mimetype": "text/x-python",
   "name": "python",
   "nbconvert_exporter": "python",
   "pygments_lexer": "ipython3",
   "version": "3.6.5"
  }
 },
 "nbformat": 4,
 "nbformat_minor": 1
}
