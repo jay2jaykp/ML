{
 "cells": [
  {
   "cell_type": "markdown",
   "metadata": {
    "colab_type": "text",
    "id": "fp5rCwYlNkbz"
   },
   "source": [
    "**Optimal Replacement Policy (Belady Algorithm)** for Cache Management Policy\n",
    "\n",
    "**Terminology**\n",
    "\n",
    "**block_trace** - list of sequestial block request from CPU to memory/disk\n",
    "\n",
    "**cold_miss** - compulsory misses when the caceh is empty and it is the first time a block has been requested\n",
    "\n",
    "**cap_miss** - capacity miss when cache run out of space and had to **evict** a block from cache to bring the requested one into cache\n",
    "\n",
    "**hit** - if block found in cache\n",
    "\n",
    "**miss** - if block is not found in cache, also known as **fault**\n",
    "\n",
    "We want to optimize (minimize) the number of faults (or maximize number of hits)"
   ]
  },
  {
   "cell_type": "code",
   "execution_count": null,
   "metadata": {
    "colab": {},
    "colab_type": "code",
    "id": "wHq0-WK66rNA"
   },
   "outputs": [],
   "source": [
    "import numpy as np\n",
    "import random\n",
    "import pandas as pd\n",
    "from tqdm import tqdm"
   ]
  },
  {
   "cell_type": "code",
   "execution_count": null,
   "metadata": {
    "colab": {},
    "colab_type": "code",
    "id": "fRjVgGf7O9-Y"
   },
   "outputs": [],
   "source": [
    "#length of block trace\n",
    "l = 20\n",
    "\n",
    "#lowest value of block number \n",
    "b_low = 1\n",
    "\n",
    "#highest value of block number\n",
    "b_high = 7\n",
    "\n",
    "block_trace = np.random.randint(b_low, b_high, size=(l)).tolist()"
   ]
  },
  {
   "cell_type": "code",
   "execution_count": null,
   "metadata": {
    "colab": {},
    "colab_type": "code",
    "id": "WoYsxIuhzPE0"
   },
   "outputs": [],
   "source": [
    "data = pd.read_csv('cheetah.cs.fiu.edu-110108-113008.1.blkparse', header=None)"
   ]
  },
  {
   "cell_type": "code",
   "execution_count": null,
   "metadata": {
    "colab": {
     "base_uri": "https://localhost:8080/",
     "height": 1949
    },
    "colab_type": "code",
    "id": "xBLwqUt4ziQ3",
    "outputId": "adfaf52a-d74e-4af3-d870-314f024fbb44"
   },
   "outputs": [],
   "source": [
    "data"
   ]
  },
  {
   "cell_type": "code",
   "execution_count": null,
   "metadata": {
    "colab": {},
    "colab_type": "code",
    "id": "b2AecN8Sz94n"
   },
   "outputs": [],
   "source": [
    "data = data[3:]"
   ]
  },
  {
   "cell_type": "code",
   "execution_count": null,
   "metadata": {
    "colab": {},
    "colab_type": "code",
    "id": "Nnga3Gy20dx_"
   },
   "outputs": [],
   "source": [
    "df = pd.DataFrame(data[0].str.split(' ',9).tolist())"
   ]
  },
  {
   "cell_type": "code",
   "execution_count": null,
   "metadata": {
    "colab": {},
    "colab_type": "code",
    "id": "92-42R3S09h2"
   },
   "outputs": [],
   "source": [
    "blocktrace = df[3].tolist()\n",
    "blocktrace = [int(x) for x in blocktrace]"
   ]
  },
  {
   "cell_type": "code",
   "execution_count": null,
   "metadata": {
    "colab": {
     "base_uri": "https://localhost:8080/",
     "height": 17368
    },
    "colab_type": "code",
    "id": "sW5c0Bgt1RyG",
    "outputId": "971ad029-cdb5-4c80-ea73-c51ccb4ab425"
   },
   "outputs": [],
   "source": [
    "blocktrace"
   ]
  },
  {
   "cell_type": "code",
   "execution_count": null,
   "metadata": {
    "colab": {
     "base_uri": "https://localhost:8080/",
     "height": 35
    },
    "colab_type": "code",
    "id": "PZ_sCpp71pzL",
    "outputId": "6eb6a0ef-c019-4346-d06e-7d33938900e4"
   },
   "outputs": [],
   "source": [
    "len(blocktrace)"
   ]
  },
  {
   "cell_type": "code",
   "execution_count": null,
   "metadata": {
    "colab": {
     "base_uri": "https://localhost:8080/",
     "height": 35
    },
    "colab_type": "code",
    "id": "H44UQgf81re-",
    "outputId": "61cd1114-2eeb-4804-eff3-1c09fcc8aa73"
   },
   "outputs": [],
   "source": [
    "len(set(blocktrace))"
   ]
  },
  {
   "cell_type": "code",
   "execution_count": null,
   "metadata": {
    "colab": {},
    "colab_type": "code",
    "id": "Ee-MgeJofIFi"
   },
   "outputs": [],
   "source": [
    "#sample block trace we use for testing and consistency \n",
    "block_trace = [0,1,2,0,1,3,0,3,1,2,1]"
   ]
  },
  {
   "cell_type": "code",
   "execution_count": null,
   "metadata": {
    "colab": {},
    "colab_type": "code",
    "id": "IBx4aRwDzrW3"
   },
   "outputs": [],
   "source": [
    "def checkindex(item, ilist):\n",
    "  \n",
    "  try:\n",
    "    return ilist.index(item)\n",
    "  except ValueError:\n",
    "    return -1 "
   ]
  },
  {
   "cell_type": "code",
   "execution_count": null,
   "metadata": {
    "colab": {},
    "colab_type": "code",
    "id": "fjLgbbbCx6nB"
   },
   "outputs": [],
   "source": [
    "def optimal(blocktrace, frame):\n",
    "    cache = []\n",
    "\n",
    "    hit, miss = 0, 0\n",
    "\n",
    "    print(\"block\", \"\\t\\t hit\", \"\\t\\t miss\", \"\\t\\t cache\")\n",
    "    for i, block in enumerate(blocktrace):\n",
    "        if block in cache:\n",
    "            hit += 1\n",
    "            pass\n",
    "\n",
    "        elif len(cache) < frame:\n",
    "            cache.append(block)\n",
    "            miss += 1\n",
    "\n",
    "        else:\n",
    "            remain_block_trace = blocktrace[i:]\n",
    "\n",
    "            indexed = [checkindex(j, remain_block_trace) for j in cache]\n",
    "\n",
    "            indexed2 = list(filter(lambda a: a != -1, indexed))\n",
    "      \n",
    "            if len(indexed2) == 1:\n",
    "                cache.pop()\n",
    "                if remain_block_trace[indexed2[0]] not in cache:\n",
    "                    cache.pop()\n",
    "                    cache.append(remain_block_trace[indexed2[0]])\n",
    "                    cache.append(block)\n",
    "                    miss += 1\n",
    "\n",
    "                elif len(indexed2) == 0:\n",
    "                    cache.pop(0)\n",
    "                    cache.append(block)\n",
    "                    miss += 1\n",
    "\n",
    "                else:\n",
    "                    cache.remove(remain_block_trace[max(indexed2)])\n",
    "                    cache.append(block)\n",
    "                    miss += 1\n",
    "\n",
    "\n",
    "        print(block, \"\\t\\t\", hit, \"\\t\\t\", miss, \"\\t\\t\", cache)\n",
    "\n",
    "    hitrate = hit / (hit + miss)\n",
    "    print(\"\\n\\nhitrate: \", hitrate)\n",
    "\n",
    "    return hitrate\n"
   ]
  },
  {
   "cell_type": "code",
   "execution_count": null,
   "metadata": {
    "colab": {},
    "colab_type": "code",
    "id": "Ht6S0a_Zekbj"
   },
   "outputs": [],
   "source": [
    "def FIFO(blocktrace, frame):\n",
    "    '''\n",
    "      FIFO - First In First Out\n",
    "    '''\n",
    "  \n",
    "    cache = []\n",
    "\n",
    "    hit, miss = 0, 0\n",
    "\n",
    "    print(\"block\", \"\\t\\t hit\", \"\\t\\t miss\", \"\\t\\t cache\")\n",
    "    for block in blocktrace:\n",
    "        if block in cache:\n",
    "            hit += 1\n",
    "            pass\n",
    "\n",
    "        elif len(cache) < frame:\n",
    "            cache.append(block)\n",
    "            miss += 1\n",
    "\n",
    "        else:\n",
    "            cache.pop(0)\n",
    "            cache.append(block)\n",
    "            miss += 1\n",
    "\n",
    "        print(block, \"\\t\\t\", hit, \"\\t\\t\", miss, \"\\t\\t\", cache)\n",
    "\n",
    "    hitrate = hit / (hit + miss)\n",
    "    print(\"\\n\\nhitrate: \", hitrate)\n",
    "  \n",
    "    return hitrate"
   ]
  },
  {
   "cell_type": "code",
   "execution_count": null,
   "metadata": {
    "colab": {
     "base_uri": "https://localhost:8080/",
     "height": 277
    },
    "colab_type": "code",
    "id": "NTMlJv_PiNEM",
    "outputId": "dbfab2ec-54c5-43dd-db59-b640b670e17e"
   },
   "outputs": [],
   "source": [
    "block_trace"
   ]
  },
  {
   "cell_type": "code",
   "execution_count": null,
   "metadata": {
    "colab": {},
    "colab_type": "code",
    "id": "AnEt_AwSbI_L"
   },
   "outputs": [],
   "source": [
    "def FIFO_np(blocktrace, frame):\n",
    "    \n",
    "    cache = np.zeros((frame), dtype=int)\n",
    "    hit, miss = 0, 0\n",
    "    \n",
    "    #print(\"block\", \"\\t\\t hit\", \"\\t\\t miss\", \"\\t\\t cache\", \\\n",
    "     #     \"\\t\\tpointer\")\n",
    "\n",
    "    pointer = 0\n",
    "    for block in tqdm(blocktrace):\n",
    "        if block in cache:\n",
    "            hit += 1\n",
    "        \n",
    "        elif frame - np.count_nonzero(cache) != 0:\n",
    "            cache[np.where(cache==0)[0][0]] = block\n",
    "            miss += 1\n",
    "        \n",
    "        else:\n",
    "            cache[pointer % frame] = block\n",
    "            pointer += 1\n",
    "            miss += 1\n",
    "        \n",
    "      #  print(block, \"\\t\\t\", hit, \"\\t\\t\", miss, \"\\t\\t\", cache,\\\n",
    "       #       \"\\t\\t\", pointer)\n",
    "    \n",
    "    hitrate = hit / (hit + miss)\n",
    "    print(hitrate)\n",
    "    \n",
    "    return hitrate\n",
    "            "
   ]
  },
  {
   "cell_type": "code",
   "execution_count": null,
   "metadata": {
    "colab": {},
    "colab_type": "code",
    "id": "NrYsnQsJbI_O",
    "outputId": "8c695893-4ddb-4226-a359-915d2931afed"
   },
   "outputs": [],
   "source": [
    "block_trace"
   ]
  },
  {
   "cell_type": "code",
   "execution_count": null,
   "metadata": {
    "colab": {},
    "colab_type": "code",
    "id": "NsnVJ6OmbI_U",
    "outputId": "8b74bcba-b63c-434f-cfde-2fa6b9b51264"
   },
   "outputs": [],
   "source": [
    "FIFO(block_trace, 3)"
   ]
  },
  {
   "cell_type": "code",
   "execution_count": null,
   "metadata": {
    "colab": {},
    "colab_type": "code",
    "id": "PIfd1TAubI_Y",
    "outputId": "f089a022-956a-40d5-e451-9066d79c6da9"
   },
   "outputs": [],
   "source": [
    "FIFO_np(block_trace, 3)"
   ]
  },
  {
   "cell_type": "code",
   "execution_count": null,
   "metadata": {
    "colab": {},
    "colab_type": "code",
    "id": "8NngQYdqbI_a",
    "outputId": "9c8cccae-edb7-4a08-d2fd-e478ab857fc2"
   },
   "outputs": [],
   "source": [
    "hitrateFIFO = FIFO_np(blocktrace, 35000)"
   ]
  },
  {
   "cell_type": "code",
   "execution_count": null,
   "metadata": {
    "colab": {},
    "colab_type": "code",
    "id": "GAsLD671iPgw"
   },
   "outputs": [],
   "source": [
    "def random_replacement(blocktrace, frame):\n",
    "  \n",
    "    cache = []\n",
    "    hit, miss = 0, 0\n",
    "\n",
    "    print(\"block\", \"\\t\\t hit\", \"\\t\\t miss\", \"\\t\\t cache\")\n",
    "    for i, block in enumerate(blocktrace):\n",
    "        if block in cache:\n",
    "            hit += 1\n",
    "            pass\n",
    "\n",
    "        elif len(cache) < frame:\n",
    "            cache.append(block)\n",
    "            miss += 1\n",
    "\n",
    "        else:\n",
    "            random.shuffle(cache)\n",
    "            cache.pop()\n",
    "            cache.append(i)\n",
    "            miss += 1\n",
    "\n",
    "\n",
    "    print(block, \"\\t\\t\", hit, \"\\t\\t\", miss, \"\\t\\t\", cache)\n",
    "   \n",
    "    hitrate = hit / (hit + miss)\n",
    "    print(\"\\n\\nhitrate: \", hitrate)\n",
    "    \n",
    "    return hitrate"
   ]
  },
  {
   "cell_type": "code",
   "execution_count": null,
   "metadata": {
    "colab": {
     "base_uri": "https://localhost:8080/",
     "height": 277
    },
    "colab_type": "code",
    "id": "xO0RVM12jqPJ",
    "outputId": "d89e2b42-f749-4087-ad31-2617c4fd053e"
   },
   "outputs": [],
   "source": [
    "random_replacement(block_trace, 3)"
   ]
  },
  {
   "cell_type": "code",
   "execution_count": null,
   "metadata": {
    "colab": {},
    "colab_type": "code",
    "id": "owC5mAR2kmUe"
   },
   "outputs": [],
   "source": [
    "def LFU(blocktrace, frame):\n",
    "  \n",
    "  cache = []\n",
    "  hit, miss = 0, 0\n",
    "\n",
    "  print(\"block\", \"\\t\\t hit\", \"\\t\\t miss\", \"\\t\\t cache\")\n",
    "  for i, block in enumerate(blocktrace):\n",
    "    if block in cache:\n",
    "      hit += 1\n",
    "      pass\n",
    "\n",
    "    elif len(cache) < frame:\n",
    "      cache.append(block)\n",
    "      miss += 1\n",
    "      \n",
    "    else:\n",
    "      \n",
    "      past_blocktrace = blocktrace[:i]\n",
    "      cache_element_frequency = list(map(lambda x: past_blocktrace.count(x), cache))\n",
    "      cache.pop(cache_element_frequency.index(min(cache_element_frequency)))\n",
    "      cache.append(block)\n",
    "      miss += 1\n",
    "    \n",
    "    print(block, \"\\t\\t\", hit, \"\\t\\t\", miss, \"\\t\\t\", cache)\n",
    "   \n",
    "  hitrate = hit / (hit + miss)\n",
    "  print(\"\\n\\nhitrate: \", hitrate)"
   ]
  },
  {
   "cell_type": "code",
   "execution_count": null,
   "metadata": {
    "colab": {
     "base_uri": "https://localhost:8080/",
     "height": 277
    },
    "colab_type": "code",
    "id": "7aGQ6SZ5TG_5",
    "outputId": "45533280-7ce5-4675-b493-424ba9154f04"
   },
   "outputs": [],
   "source": [
    "LFU(block_trace, 3)"
   ]
  },
  {
   "cell_type": "code",
   "execution_count": null,
   "metadata": {
    "colab": {},
    "colab_type": "code",
    "id": "oi3Ih260TPZr"
   },
   "outputs": [],
   "source": [
    "def LRU(blocktrace, frame):\n",
    "  cache = []\n",
    "  hit, miss = 0, 0\n",
    "\n",
    "  print(\"block\", \"\\t\\t hit\", \"\\t\\t miss\", \"\\t\\t cache\")\n",
    "  for i, block in enumerate(blocktrace):\n",
    "    if block in cache:\n",
    "      hit += 1\n",
    "      pass\n",
    "\n",
    "    elif len(cache) < frame:\n",
    "      cache.append(block)\n",
    "      miss += 1\n",
    "      \n",
    "    else:\n",
    "      past_blocktrace = blocktrace[:i]\n",
    "      past_blocktrace.reverse()\n",
    "      \n",
    "      indexed = [checkindex(j, past_blocktrace) for j in cache]\n",
    "\n",
    "      #print('index: ', indexed)\n",
    "      cache.pop(indexed.index(max(indexed)))\n",
    "      cache.append(block)\n",
    "      miss += 1\n",
    "    \n",
    "    print(block, \"\\t\\t\", hit, \"\\t\\t\", miss, \"\\t\\t\", cache)\n",
    "   \n",
    "  hitrate = hit / (hit + miss)\n",
    "  print(\"\\n\\nhitrate: \", hitrate)"
   ]
  },
  {
   "cell_type": "code",
   "execution_count": null,
   "metadata": {
    "colab": {
     "base_uri": "https://localhost:8080/",
     "height": 277
    },
    "colab_type": "code",
    "id": "vuRmt2bNUKz6",
    "outputId": "9b9e14f1-7069-4ddd-feba-86187a499d51"
   },
   "outputs": [],
   "source": [
    "LRU(block_trace, 3)"
   ]
  },
  {
   "cell_type": "code",
   "execution_count": null,
   "metadata": {
    "colab": {},
    "colab_type": "code",
    "id": "air01OCaYNDl"
   },
   "outputs": [],
   "source": [
    "l = np.zeros((14), dtype=int)"
   ]
  },
  {
   "cell_type": "code",
   "execution_count": null,
   "metadata": {
    "colab": {},
    "colab_type": "code",
    "id": "hW-3cFOPY5Vc"
   },
   "outputs": [],
   "source": [
    "l[3] = 2"
   ]
  },
  {
   "cell_type": "code",
   "execution_count": null,
   "metadata": {
    "colab": {},
    "colab_type": "code",
    "id": "G8GHpolD2K1g",
    "outputId": "7450282e-99d1-4db4-a56c-13c379026a99"
   },
   "outputs": [],
   "source": [
    "len(l) - np.count_nonzero(l)"
   ]
  },
  {
   "cell_type": "markdown",
   "metadata": {
    "colab_type": "text",
    "id": "grRa8yFO2LrG"
   },
   "source": [
    "l.shape"
   ]
  },
  {
   "cell_type": "code",
   "execution_count": null,
   "metadata": {
    "colab": {},
    "colab_type": "code",
    "id": "B0BEPAtrbI_-",
    "outputId": "39779066-c7c2-4ab4-83b9-ce4ca4988fa4"
   },
   "outputs": [],
   "source": [
    "np.where(l == 0)[0][1]"
   ]
  },
  {
   "cell_type": "code",
   "execution_count": null,
   "metadata": {
    "colab": {},
    "colab_type": "code",
    "id": "RpnhHOy-bJAB",
    "outputId": "dfac2060-3315-4262-e160-bb9df666813f"
   },
   "outputs": [],
   "source": [
    "np.where(l == 0)"
   ]
  },
  {
   "cell_type": "code",
   "execution_count": null,
   "metadata": {
    "colab": {},
    "colab_type": "code",
    "id": "ZlPUy1dWbJAF"
   },
   "outputs": [],
   "source": [
    "l= np.array([1,2,3,0,6,7,0])"
   ]
  },
  {
   "cell_type": "code",
   "execution_count": null,
   "metadata": {
    "colab": {},
    "colab_type": "code",
    "id": "-YTSeAafbJAI",
    "outputId": "96b06ea6-7a0d-4f67-81d0-3d4b07e3d9a1"
   },
   "outputs": [],
   "source": [
    "l"
   ]
  },
  {
   "cell_type": "code",
   "execution_count": null,
   "metadata": {
    "colab": {},
    "colab_type": "code",
    "id": "yJXi026ibJAL",
    "outputId": "fa6f9785-a037-419a-e1f1-e401bc935614"
   },
   "outputs": [],
   "source": [
    "np.where(l==0)[0].shape[0]"
   ]
  },
  {
   "cell_type": "code",
   "execution_count": null,
   "metadata": {
    "colab": {},
    "colab_type": "code",
    "id": "-cQ1_FVIbJAO",
    "outputId": "321192b0-8579-4930-de37-dd8de2388daf"
   },
   "outputs": [],
   "source": [
    "l2 = [1,2,3,4,5,6,9,9]\n",
    "l2.index(3)"
   ]
  },
  {
   "cell_type": "code",
   "execution_count": null,
   "metadata": {
    "colab": {},
    "colab_type": "code",
    "id": "WqPTdMVGbJAY",
    "outputId": "30947b1b-85e8-42b3-e138-6c3a2622f5c8"
   },
   "outputs": [],
   "source": [
    "blocktrace.index(283193152)"
   ]
  },
  {
   "cell_type": "code",
   "execution_count": null,
   "metadata": {
    "colab": {},
    "colab_type": "code",
    "id": "lpmhq6DkbJAb",
    "outputId": "b81a9415-7c85-40b4-eb46-c66e042019f2"
   },
   "outputs": [],
   "source": [
    "if 3 in l:\n",
    "    print('yes')"
   ]
  },
  {
   "cell_type": "code",
   "execution_count": null,
   "metadata": {
    "colab": {},
    "colab_type": "code",
    "id": "nRbJzJlibJAd",
    "outputId": "4f789ec7-91d7-4855-a4f3-fb5cfe9b4e01"
   },
   "outputs": [],
   "source": [
    "l[1]"
   ]
  },
  {
   "cell_type": "code",
   "execution_count": null,
   "metadata": {},
   "outputs": [],
   "source": [
    "X[1].toarray()"
   ]
  },
  {
   "cell_type": "code",
   "execution_count": null,
   "metadata": {},
   "outputs": [],
   "source": []
  }
 ],
 "metadata": {
  "colab": {
   "collapsed_sections": [],
   "name": "Project.ipynb",
   "provenance": [],
   "version": "0.3.2"
  },
  "kernelspec": {
   "display_name": "Python 3",
   "language": "python",
   "name": "python3"
  },
  "language_info": {
   "codemirror_mode": {
    "name": "ipython",
    "version": 3
   },
   "file_extension": ".py",
   "mimetype": "text/x-python",
   "name": "python",
   "nbconvert_exporter": "python",
   "pygments_lexer": "ipython3",
   "version": "3.7.0"
  }
 },
 "nbformat": 4,
 "nbformat_minor": 1
}
