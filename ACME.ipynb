{
 "cells": [
  {
   "cell_type": "code",
   "execution_count": 1,
   "metadata": {},
   "outputs": [],
   "source": [
    "from tqdm import tqdm_notebook as tqdm \n",
    "import numpy as np\n",
    "from collections import deque, Counter, defaultdict"
   ]
  },
  {
   "cell_type": "code",
   "execution_count": 2,
   "metadata": {},
   "outputs": [],
   "source": [
    "blocktrace = np.random.randint(10000, size=(100000))"
   ]
  },
  {
   "cell_type": "code",
   "execution_count": null,
   "metadata": {},
   "outputs": [],
   "source": [
    "class ACME(object):\n",
    "    \n",
    "    position = 0\n",
    "    cache = set()\n",
    "    recency = deque()\n",
    "    \n",
    "    def __init__(self, blocktrace, cacheSize):\n",
    "        self.blocktrace = blocktrace\n",
    "        self.cacheSize = cacheSize\n",
    "           \n",
    "    def LRU_block(self, position, cache):\n",
    "        return recency[0]\n",
    "    \n",
    "    def LFU_block(self, position, cache):\n",
    "        "
   ]
  },
  {
   "cell_type": "code",
   "execution_count": 49,
   "metadata": {},
   "outputs": [],
   "source": [
    "frame = 3\n",
    "recency = deque()\n",
    "frequency = defaultdict(int)\n",
    "\n",
    "\n",
    "cache = set()\n",
    "LRU_cache = set()\n",
    "LFU_cache = set()\n",
    "cache_frequency = defaultdict()\n",
    "LFU_cache_frequency = defaultdict(int)\n"
   ]
  },
  {
   "cell_type": "code",
   "execution_count": 51,
   "metadata": {},
   "outputs": [],
   "source": [
    "def LRU(block):     \n",
    "    if block in LRU_cache:\n",
    "        recency.remove(block)\n",
    "        recency.append(block)\n",
    "        return 1, None\n",
    "    \n",
    "    elif len(LRU_cache) < frame*2:\n",
    "        LRU_cache.add(block)\n",
    "        recency.append(block)\n",
    "        return 0, None\n",
    "    \n",
    "    else:\n",
    "        evict = recency[0]\n",
    "        LRU_cache.remove(evict)\n",
    "        recency.popleft()\n",
    "        LRU_cache.add(block)\n",
    "        recency.append(block)\n",
    "        return -1, evict\n",
    "    \n",
    "def LFU(block):       \n",
    "    if block in LFU_cache:\n",
    "        LFU_cache_frequency[block] += 1\n",
    "        return 1, None\n",
    "\n",
    "    elif len(LFU_cache) < frame*2:\n",
    "        LFU_cache.add(block)\n",
    "        LFU_cache_frequency[block] += 1\n",
    "        return 0, None\n",
    "        \n",
    "    else:\n",
    "        evict, f = min(LFU_cache_frequency.items(), key=lambda a: a[1])\n",
    "        LFU_cache_frequency.pop(evict)\n",
    "        LFU_cache.remove(evict)\n",
    "        LFU_cache.add(block)\n",
    "        LFU_cache_frequency[block] = frequency[block]\n",
    "        return -1, evict"
   ]
  },
  {
   "cell_type": "code",
   "execution_count": 62,
   "metadata": {},
   "outputs": [],
   "source": [
    "def applyLRU(block):\n",
    "    cache.remove(recency[0])\n",
    "    recency.popleft()\n",
    "    cache.add(block)\n",
    "    recency.append(block)\n",
    "    \n",
    "def applyLFU(block):\n",
    "    evict, f = min(cache_frequency.items(), key=lambda a: a[1])\n",
    "    cache_frequency.pop(evict)\n",
    "    cache.remove(evict)\n",
    "    cache.add(block)\n",
    "    cache_frequency[block] = frequency[block]"
   ]
  },
  {
   "cell_type": "code",
   "execution_count": null,
   "metadata": {},
   "outputs": [],
   "source": [
    "for block in tqdm(blocktrace):\n",
    "    frequency[block] += 1\n",
    "    \n",
    "    if block in cache:\n",
    "        recency.remove(block)\n",
    "        recency.append(block)\n",
    "        "
   ]
  }
 ],
 "metadata": {
  "kernelspec": {
   "display_name": "Python 3",
   "language": "python",
   "name": "python3"
  },
  "language_info": {
   "codemirror_mode": {
    "name": "ipython",
    "version": 3
   },
   "file_extension": ".py",
   "mimetype": "text/x-python",
   "name": "python",
   "nbconvert_exporter": "python",
   "pygments_lexer": "ipython3",
   "version": "3.6.5"
  }
 },
 "nbformat": 4,
 "nbformat_minor": 2
}
